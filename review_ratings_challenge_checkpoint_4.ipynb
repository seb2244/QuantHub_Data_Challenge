{
 "cells": [
  {
   "cell_type": "markdown",
   "metadata": {},
   "source": [
    "# Review Ratings Challenge"
   ]
  },
  {
   "cell_type": "markdown",
   "metadata": {},
   "source": [
    "**Task:** Import review_ratings_headers.txt file"
   ]
  },
  {
   "cell_type": "code",
   "execution_count": 1,
   "metadata": {},
   "outputs": [],
   "source": [
    "file = open('review_ratings_headers.txt', 'r')"
   ]
  },
  {
   "cell_type": "markdown",
   "metadata": {},
   "source": [
    "**Task:**\n",
    "1. Extract \"user\" and \"id\" from the first line and combine with an underscore.\n",
    "1. In each line after the first line, extract the word(s) after \"on\" in each line, removing special characters (e.g. /n, &, etc.). \n",
    "1. If there is more than one word, combine the words with a single underscore. \n",
    "1. Put the words into a list to use as headers for your dataset later."
   ]
  },
  {
   "cell_type": "code",
   "execution_count": 2,
   "metadata": {},
   "outputs": [],
   "source": [
    "file = open('review_ratings_headers.txt', 'r')\n",
    "all_lines = file.readlines()\n",
    "import re\n",
    "\n",
    "#task 1\n",
    "line_1 = all_lines[0]\n",
    "new_line_1 = line_1[line_1.find('user'):line_1.find('user')+4] + '_' + line_1[line_1.find('id'):line_1.find('id')+2]\n",
    "\n",
    "#task 2-3\n",
    "other_lines = all_lines[1:]\n",
    "new_other_lines = other_lines\n",
    "\n",
    "for i in range(24):\n",
    "    current_line = other_lines[i]\n",
    "    new_other_lines[i] = current_line[current_line.find('on')+3:]\n",
    "    new_other_lines[i] = re.sub('[^A-Za-z]+', ' ', new_other_lines[i])\n",
    "    new_other_lines[i] = re.sub(r'\\s', '_', new_other_lines[i][:-1])\n",
    "    \n",
    "#task 4\n",
    "header_list = list(new_other_lines)\n",
    "header_list.insert(0, new_line_1)"
   ]
  },
  {
   "cell_type": "markdown",
   "metadata": {},
   "source": [
    "Question 1: How many headers are there with 2 or more words combined by an underscore?"
   ]
  },
  {
   "cell_type": "code",
   "execution_count": 3,
   "metadata": {},
   "outputs": [],
   "source": [
    "count = 0\n",
    "for header in header_list:\n",
    "    if re.search('_', header):\n",
    "        count = count + 1\n",
    "print(count)"
   ]
  },
  {
   "cell_type": "markdown",
   "metadata": {},
   "source": [
    "Question 2: How many underscores are there in all of the headers?"
   ]
  },
  {
   "cell_type": "code",
   "execution_count": 4,
   "metadata": {},
   "outputs": [],
   "source": [
    "count = 0\n",
    "for header in header_list:\n",
    "    count = count + len(re.findall('_', header))\n",
    "print(count)"
   ]
  },
  {
   "cell_type": "markdown",
   "metadata": {},
   "source": [
    "**Task:** Read in review_ratings.csv, set names as the cleaned headers list from above, skip the first row, and do not include an index column"
   ]
  },
  {
   "cell_type": "code",
   "execution_count": 5,
   "metadata": {},
   "outputs": [],
   "source": [
    "import pandas as pd\n",
    "ratings = pd.read_csv('review_ratings.csv', header = 0, names = header_list, \n",
    "            index_col = False, skiprows = 0)\n",
    "#to clarify: I'm assuming by \"skip the first row\" you meant us to \n",
    "#get rid of the row that contains the old headers, not the first row of data\n"
   ]
  },
  {
   "cell_type": "markdown",
   "metadata": {},
   "source": [
    "Question 3: How many rows are in the ratings dataset?"
   ]
  },
  {
   "cell_type": "code",
   "execution_count": 6,
   "metadata": {},
   "outputs": [
    {
     "name": "stdout",
     "output_type": "stream",
     "text": [
      "4624\n"
     ]
    }
   ],
   "source": [
    "print(ratings.shape[0])"
   ]
  },
  {
   "cell_type": "markdown",
   "metadata": {},
   "source": [
    "**Task:** Import review_ratings_with_headers.csv"
   ]
  },
  {
   "cell_type": "code",
   "execution_count": 7,
   "metadata": {},
   "outputs": [],
   "source": [
    "ratings_with_headers = pd.read_csv('review_ratings_with_headers.csv')"
   ]
  },
  {
   "cell_type": "markdown",
   "metadata": {},
   "source": [
    "**Task:** Explore data types in the dataset"
   ]
  },
  {
   "cell_type": "code",
   "execution_count": 8,
   "metadata": {},
   "outputs": [
    {
     "name": "stdout",
     "output_type": "stream",
     "text": [
      "user_id                   object\n",
      "churches                 float64\n",
      "resorts                  float64\n",
      "beaches                  float64\n",
      "parks                    float64\n",
      "theatres                 float64\n",
      "museums                  float64\n",
      "malls                    float64\n",
      "zoo                      float64\n",
      "restaurants              float64\n",
      "pubs_bars                float64\n",
      "local_services           float64\n",
      "burger_pizza_shops       float64\n",
      "hotels_other_lodgings    float64\n",
      "juice_bars               float64\n",
      "art_galleries             object\n",
      "dance_clubs              float64\n",
      "swimming_pools           float64\n",
      "gyms                     float64\n",
      "bakeries                 float64\n",
      "beauty_spas              float64\n",
      "cafes                    float64\n",
      "view_points              float64\n",
      "monuments                float64\n",
      "gardens                  float64\n",
      "dtype: object\n"
     ]
    }
   ],
   "source": [
    "print(ratings_with_headers.dtypes)\n",
    "#everything is a float, except for user_id and art_galleries which are strings"
   ]
  },
  {
   "cell_type": "markdown",
   "metadata": {},
   "source": [
    "Question 4: What data type is local_services?"
   ]
  },
  {
   "cell_type": "code",
   "execution_count": 9,
   "metadata": {},
   "outputs": [
    {
     "data": {
      "text/plain": [
       "dtype('float64')"
      ]
     },
     "execution_count": 9,
     "metadata": {},
     "output_type": "execute_result"
    }
   ],
   "source": [
    "ratings_with_headers.dtypes.local_services"
   ]
  },
  {
   "cell_type": "markdown",
   "metadata": {},
   "source": [
    "**Task:** Find special characters that are in one of the columns, replace with 0, and convert to continuous/float type"
   ]
  },
  {
   "cell_type": "code",
   "execution_count": 10,
   "metadata": {},
   "outputs": [],
   "source": [
    "ratings_with_headers.art_galleries = [re.sub('[^0-9\\.]+', '0', row) for row in ratings_with_headers.art_galleries]\n",
    "ratings_with_headers.art_galleries = [float(row) for row in ratings_with_headers.art_galleries]"
   ]
  },
  {
   "cell_type": "markdown",
   "metadata": {},
   "source": [
    "Question 5: What was the string that contained the special characters?"
   ]
  },
  {
   "cell_type": "code",
   "execution_count": 11,
   "metadata": {},
   "outputs": [
    {
     "name": "stdout",
     "output_type": "stream",
     "text": [
      "[['qh']]\n"
     ]
    }
   ],
   "source": [
    "original_data = pd.read_csv('review_ratings_with_headers.csv')\n",
    "special_characters = []\n",
    "for row in original_data.art_galleries:\n",
    "    if re.findall('[^0-9\\.]+', row) != []:\n",
    "        special_characters.append(re.findall('[^0-9\\.]+', row))\n",
    "print(special_characters)"
   ]
  },
  {
   "cell_type": "markdown",
   "metadata": {},
   "source": [
    "Question 6: What is the mean of the variable now that it has been converted to type continuous/float?"
   ]
  },
  {
   "cell_type": "code",
   "execution_count": 12,
   "metadata": {},
   "outputs": [
    {
     "data": {
      "text/plain": [
       "2.2"
      ]
     },
     "execution_count": 12,
     "metadata": {},
     "output_type": "execute_result"
    }
   ],
   "source": [
    "import statistics\n",
    "round(statistics.mean(ratings_with_headers.art_galleries), 1)"
   ]
  },
  {
   "cell_type": "markdown",
   "metadata": {},
   "source": [
    "**Task:** Fill missing values with 0 and run summary statistics on the dataset"
   ]
  },
  {
   "cell_type": "code",
   "execution_count": 13,
   "metadata": {},
   "outputs": [
    {
     "data": {
      "text/html": [
       "<div>\n",
       "<style scoped>\n",
       "    .dataframe tbody tr th:only-of-type {\n",
       "        vertical-align: middle;\n",
       "    }\n",
       "\n",
       "    .dataframe tbody tr th {\n",
       "        vertical-align: top;\n",
       "    }\n",
       "\n",
       "    .dataframe thead th {\n",
       "        text-align: right;\n",
       "    }\n",
       "</style>\n",
       "<table border=\"1\" class=\"dataframe\">\n",
       "  <thead>\n",
       "    <tr style=\"text-align: right;\">\n",
       "      <th></th>\n",
       "      <th>user_id</th>\n",
       "      <th>churches</th>\n",
       "      <th>resorts</th>\n",
       "      <th>beaches</th>\n",
       "      <th>parks</th>\n",
       "      <th>theatres</th>\n",
       "      <th>museums</th>\n",
       "      <th>malls</th>\n",
       "      <th>zoo</th>\n",
       "      <th>restaurants</th>\n",
       "      <th>...</th>\n",
       "      <th>art_galleries</th>\n",
       "      <th>dance_clubs</th>\n",
       "      <th>swimming_pools</th>\n",
       "      <th>gyms</th>\n",
       "      <th>bakeries</th>\n",
       "      <th>beauty_spas</th>\n",
       "      <th>cafes</th>\n",
       "      <th>view_points</th>\n",
       "      <th>monuments</th>\n",
       "      <th>gardens</th>\n",
       "    </tr>\n",
       "  </thead>\n",
       "  <tbody>\n",
       "    <tr>\n",
       "      <th>count</th>\n",
       "      <td>4624</td>\n",
       "      <td>4624.000000</td>\n",
       "      <td>4624.000000</td>\n",
       "      <td>4624.000000</td>\n",
       "      <td>4624.000000</td>\n",
       "      <td>4624.000000</td>\n",
       "      <td>4624.000000</td>\n",
       "      <td>4624.000000</td>\n",
       "      <td>4624.000000</td>\n",
       "      <td>4624.000000</td>\n",
       "      <td>...</td>\n",
       "      <td>4624.000000</td>\n",
       "      <td>4624.000000</td>\n",
       "      <td>4624.000000</td>\n",
       "      <td>4624.000000</td>\n",
       "      <td>4624.000000</td>\n",
       "      <td>4624.000000</td>\n",
       "      <td>4624.000000</td>\n",
       "      <td>4624.000000</td>\n",
       "      <td>4624.000000</td>\n",
       "      <td>4624.000000</td>\n",
       "    </tr>\n",
       "    <tr>\n",
       "      <th>unique</th>\n",
       "      <td>4624</td>\n",
       "      <td>NaN</td>\n",
       "      <td>NaN</td>\n",
       "      <td>NaN</td>\n",
       "      <td>NaN</td>\n",
       "      <td>NaN</td>\n",
       "      <td>NaN</td>\n",
       "      <td>NaN</td>\n",
       "      <td>NaN</td>\n",
       "      <td>NaN</td>\n",
       "      <td>...</td>\n",
       "      <td>NaN</td>\n",
       "      <td>NaN</td>\n",
       "      <td>NaN</td>\n",
       "      <td>NaN</td>\n",
       "      <td>NaN</td>\n",
       "      <td>NaN</td>\n",
       "      <td>NaN</td>\n",
       "      <td>NaN</td>\n",
       "      <td>NaN</td>\n",
       "      <td>NaN</td>\n",
       "    </tr>\n",
       "    <tr>\n",
       "      <th>top</th>\n",
       "      <td>User 3654</td>\n",
       "      <td>NaN</td>\n",
       "      <td>NaN</td>\n",
       "      <td>NaN</td>\n",
       "      <td>NaN</td>\n",
       "      <td>NaN</td>\n",
       "      <td>NaN</td>\n",
       "      <td>NaN</td>\n",
       "      <td>NaN</td>\n",
       "      <td>NaN</td>\n",
       "      <td>...</td>\n",
       "      <td>NaN</td>\n",
       "      <td>NaN</td>\n",
       "      <td>NaN</td>\n",
       "      <td>NaN</td>\n",
       "      <td>NaN</td>\n",
       "      <td>NaN</td>\n",
       "      <td>NaN</td>\n",
       "      <td>NaN</td>\n",
       "      <td>NaN</td>\n",
       "      <td>NaN</td>\n",
       "    </tr>\n",
       "    <tr>\n",
       "      <th>freq</th>\n",
       "      <td>1</td>\n",
       "      <td>NaN</td>\n",
       "      <td>NaN</td>\n",
       "      <td>NaN</td>\n",
       "      <td>NaN</td>\n",
       "      <td>NaN</td>\n",
       "      <td>NaN</td>\n",
       "      <td>NaN</td>\n",
       "      <td>NaN</td>\n",
       "      <td>NaN</td>\n",
       "      <td>...</td>\n",
       "      <td>NaN</td>\n",
       "      <td>NaN</td>\n",
       "      <td>NaN</td>\n",
       "      <td>NaN</td>\n",
       "      <td>NaN</td>\n",
       "      <td>NaN</td>\n",
       "      <td>NaN</td>\n",
       "      <td>NaN</td>\n",
       "      <td>NaN</td>\n",
       "      <td>NaN</td>\n",
       "    </tr>\n",
       "    <tr>\n",
       "      <th>mean</th>\n",
       "      <td>NaN</td>\n",
       "      <td>1.455822</td>\n",
       "      <td>2.317331</td>\n",
       "      <td>2.482007</td>\n",
       "      <td>2.796265</td>\n",
       "      <td>2.953977</td>\n",
       "      <td>2.893343</td>\n",
       "      <td>3.354189</td>\n",
       "      <td>2.548054</td>\n",
       "      <td>3.144027</td>\n",
       "      <td>...</td>\n",
       "      <td>2.203406</td>\n",
       "      <td>1.194271</td>\n",
       "      <td>0.954007</td>\n",
       "      <td>0.825424</td>\n",
       "      <td>0.960783</td>\n",
       "      <td>0.993854</td>\n",
       "      <td>0.973227</td>\n",
       "      <td>1.758545</td>\n",
       "      <td>1.535264</td>\n",
       "      <td>1.561068</td>\n",
       "    </tr>\n",
       "    <tr>\n",
       "      <th>std</th>\n",
       "      <td>NaN</td>\n",
       "      <td>0.819186</td>\n",
       "      <td>1.418414</td>\n",
       "      <td>1.242288</td>\n",
       "      <td>1.313560</td>\n",
       "      <td>1.338313</td>\n",
       "      <td>1.281503</td>\n",
       "      <td>1.413699</td>\n",
       "      <td>1.112429</td>\n",
       "      <td>1.357523</td>\n",
       "      <td>...</td>\n",
       "      <td>1.719475</td>\n",
       "      <td>1.108272</td>\n",
       "      <td>0.980365</td>\n",
       "      <td>0.953209</td>\n",
       "      <td>1.186662</td>\n",
       "      <td>1.188229</td>\n",
       "      <td>0.931104</td>\n",
       "      <td>1.598310</td>\n",
       "      <td>1.314480</td>\n",
       "      <td>1.164068</td>\n",
       "    </tr>\n",
       "    <tr>\n",
       "      <th>min</th>\n",
       "      <td>NaN</td>\n",
       "      <td>0.000000</td>\n",
       "      <td>0.000000</td>\n",
       "      <td>0.000000</td>\n",
       "      <td>0.830000</td>\n",
       "      <td>1.120000</td>\n",
       "      <td>1.110000</td>\n",
       "      <td>1.120000</td>\n",
       "      <td>0.860000</td>\n",
       "      <td>0.840000</td>\n",
       "      <td>...</td>\n",
       "      <td>0.000000</td>\n",
       "      <td>0.000000</td>\n",
       "      <td>0.000000</td>\n",
       "      <td>0.000000</td>\n",
       "      <td>0.000000</td>\n",
       "      <td>0.000000</td>\n",
       "      <td>0.000000</td>\n",
       "      <td>0.000000</td>\n",
       "      <td>0.000000</td>\n",
       "      <td>0.000000</td>\n",
       "    </tr>\n",
       "    <tr>\n",
       "      <th>25%</th>\n",
       "      <td>NaN</td>\n",
       "      <td>0.920000</td>\n",
       "      <td>1.360000</td>\n",
       "      <td>1.540000</td>\n",
       "      <td>1.720000</td>\n",
       "      <td>1.770000</td>\n",
       "      <td>1.780000</td>\n",
       "      <td>1.930000</td>\n",
       "      <td>1.620000</td>\n",
       "      <td>1.800000</td>\n",
       "      <td>...</td>\n",
       "      <td>0.860000</td>\n",
       "      <td>0.690000</td>\n",
       "      <td>0.580000</td>\n",
       "      <td>0.530000</td>\n",
       "      <td>0.520000</td>\n",
       "      <td>0.540000</td>\n",
       "      <td>0.570000</td>\n",
       "      <td>0.750000</td>\n",
       "      <td>0.800000</td>\n",
       "      <td>0.890000</td>\n",
       "    </tr>\n",
       "    <tr>\n",
       "      <th>50%</th>\n",
       "      <td>NaN</td>\n",
       "      <td>1.330000</td>\n",
       "      <td>1.890000</td>\n",
       "      <td>2.060000</td>\n",
       "      <td>2.450000</td>\n",
       "      <td>2.660000</td>\n",
       "      <td>2.685000</td>\n",
       "      <td>3.230000</td>\n",
       "      <td>2.190000</td>\n",
       "      <td>2.820000</td>\n",
       "      <td>...</td>\n",
       "      <td>1.320000</td>\n",
       "      <td>0.800000</td>\n",
       "      <td>0.740000</td>\n",
       "      <td>0.680000</td>\n",
       "      <td>0.690000</td>\n",
       "      <td>0.690000</td>\n",
       "      <td>0.770000</td>\n",
       "      <td>1.040000</td>\n",
       "      <td>1.070000</td>\n",
       "      <td>1.290000</td>\n",
       "    </tr>\n",
       "    <tr>\n",
       "      <th>75%</th>\n",
       "      <td>NaN</td>\n",
       "      <td>1.810000</td>\n",
       "      <td>2.670000</td>\n",
       "      <td>2.730000</td>\n",
       "      <td>4.110000</td>\n",
       "      <td>4.310000</td>\n",
       "      <td>3.830000</td>\n",
       "      <td>5.000000</td>\n",
       "      <td>3.200000</td>\n",
       "      <td>5.000000</td>\n",
       "      <td>...</td>\n",
       "      <td>4.690000</td>\n",
       "      <td>1.160000</td>\n",
       "      <td>0.920000</td>\n",
       "      <td>0.840000</td>\n",
       "      <td>0.860000</td>\n",
       "      <td>0.860000</td>\n",
       "      <td>1.010000</td>\n",
       "      <td>2.080000</td>\n",
       "      <td>1.560000</td>\n",
       "      <td>1.650000</td>\n",
       "    </tr>\n",
       "    <tr>\n",
       "      <th>max</th>\n",
       "      <td>NaN</td>\n",
       "      <td>5.000000</td>\n",
       "      <td>5.000000</td>\n",
       "      <td>5.000000</td>\n",
       "      <td>5.000000</td>\n",
       "      <td>5.000000</td>\n",
       "      <td>5.000000</td>\n",
       "      <td>5.000000</td>\n",
       "      <td>5.000000</td>\n",
       "      <td>5.000000</td>\n",
       "      <td>...</td>\n",
       "      <td>5.000000</td>\n",
       "      <td>5.000000</td>\n",
       "      <td>5.000000</td>\n",
       "      <td>5.000000</td>\n",
       "      <td>5.000000</td>\n",
       "      <td>5.000000</td>\n",
       "      <td>5.000000</td>\n",
       "      <td>5.000000</td>\n",
       "      <td>5.000000</td>\n",
       "      <td>5.000000</td>\n",
       "    </tr>\n",
       "  </tbody>\n",
       "</table>\n",
       "<p>11 rows × 25 columns</p>\n",
       "</div>"
      ],
      "text/plain": [
       "          user_id     churches      resorts      beaches        parks  \\\n",
       "count        4624  4624.000000  4624.000000  4624.000000  4624.000000   \n",
       "unique       4624          NaN          NaN          NaN          NaN   \n",
       "top     User 3654          NaN          NaN          NaN          NaN   \n",
       "freq            1          NaN          NaN          NaN          NaN   \n",
       "mean          NaN     1.455822     2.317331     2.482007     2.796265   \n",
       "std           NaN     0.819186     1.418414     1.242288     1.313560   \n",
       "min           NaN     0.000000     0.000000     0.000000     0.830000   \n",
       "25%           NaN     0.920000     1.360000     1.540000     1.720000   \n",
       "50%           NaN     1.330000     1.890000     2.060000     2.450000   \n",
       "75%           NaN     1.810000     2.670000     2.730000     4.110000   \n",
       "max           NaN     5.000000     5.000000     5.000000     5.000000   \n",
       "\n",
       "           theatres      museums        malls          zoo  restaurants  ...  \\\n",
       "count   4624.000000  4624.000000  4624.000000  4624.000000  4624.000000  ...   \n",
       "unique          NaN          NaN          NaN          NaN          NaN  ...   \n",
       "top             NaN          NaN          NaN          NaN          NaN  ...   \n",
       "freq            NaN          NaN          NaN          NaN          NaN  ...   \n",
       "mean       2.953977     2.893343     3.354189     2.548054     3.144027  ...   \n",
       "std        1.338313     1.281503     1.413699     1.112429     1.357523  ...   \n",
       "min        1.120000     1.110000     1.120000     0.860000     0.840000  ...   \n",
       "25%        1.770000     1.780000     1.930000     1.620000     1.800000  ...   \n",
       "50%        2.660000     2.685000     3.230000     2.190000     2.820000  ...   \n",
       "75%        4.310000     3.830000     5.000000     3.200000     5.000000  ...   \n",
       "max        5.000000     5.000000     5.000000     5.000000     5.000000  ...   \n",
       "\n",
       "        art_galleries  dance_clubs  swimming_pools         gyms     bakeries  \\\n",
       "count     4624.000000  4624.000000     4624.000000  4624.000000  4624.000000   \n",
       "unique            NaN          NaN             NaN          NaN          NaN   \n",
       "top               NaN          NaN             NaN          NaN          NaN   \n",
       "freq              NaN          NaN             NaN          NaN          NaN   \n",
       "mean         2.203406     1.194271        0.954007     0.825424     0.960783   \n",
       "std          1.719475     1.108272        0.980365     0.953209     1.186662   \n",
       "min          0.000000     0.000000        0.000000     0.000000     0.000000   \n",
       "25%          0.860000     0.690000        0.580000     0.530000     0.520000   \n",
       "50%          1.320000     0.800000        0.740000     0.680000     0.690000   \n",
       "75%          4.690000     1.160000        0.920000     0.840000     0.860000   \n",
       "max          5.000000     5.000000        5.000000     5.000000     5.000000   \n",
       "\n",
       "        beauty_spas        cafes  view_points    monuments      gardens  \n",
       "count   4624.000000  4624.000000  4624.000000  4624.000000  4624.000000  \n",
       "unique          NaN          NaN          NaN          NaN          NaN  \n",
       "top             NaN          NaN          NaN          NaN          NaN  \n",
       "freq            NaN          NaN          NaN          NaN          NaN  \n",
       "mean       0.993854     0.973227     1.758545     1.535264     1.561068  \n",
       "std        1.188229     0.931104     1.598310     1.314480     1.164068  \n",
       "min        0.000000     0.000000     0.000000     0.000000     0.000000  \n",
       "25%        0.540000     0.570000     0.750000     0.800000     0.890000  \n",
       "50%        0.690000     0.770000     1.040000     1.070000     1.290000  \n",
       "75%        0.860000     1.010000     2.080000     1.560000     1.650000  \n",
       "max        5.000000     5.000000     5.000000     5.000000     5.000000  \n",
       "\n",
       "[11 rows x 25 columns]"
      ]
     },
     "execution_count": 13,
     "metadata": {},
     "output_type": "execute_result"
    }
   ],
   "source": [
    "for row in range(ratings_with_headers.shape[0]):\n",
    "    for column in range(1,ratings_with_headers.shape[1]):\n",
    "        if pd.isnull(ratings_with_headers.iloc[row, column]):\n",
    "            ratings_with_headers.iloc[row, column] = 0\n",
    "\n",
    "ratings_with_headers.describe(include = 'all')"
   ]
  },
  {
   "cell_type": "markdown",
   "metadata": {},
   "source": [
    "Question 7: What is the IQR of ratings for resorts?"
   ]
  },
  {
   "cell_type": "code",
   "execution_count": 14,
   "metadata": {},
   "outputs": [
    {
     "data": {
      "text/plain": [
       "1.31"
      ]
     },
     "execution_count": 14,
     "metadata": {},
     "output_type": "execute_result"
    }
   ],
   "source": [
    "from scipy import stats\n",
    "round(stats.iqr(ratings_with_headers.resorts), 2)"
   ]
  },
  {
   "cell_type": "markdown",
   "metadata": {},
   "source": [
    "**Task:** Import review_ratings_processed.csv"
   ]
  },
  {
   "cell_type": "code",
   "execution_count": 18,
   "metadata": {},
   "outputs": [],
   "source": [
    "processed_reviews = pd.read_csv('review_ratings_processed.csv')"
   ]
  },
  {
   "cell_type": "markdown",
   "metadata": {},
   "source": [
    "**Task:** Find the variables that are most correlated with each other"
   ]
  },
  {
   "cell_type": "code",
   "execution_count": 355,
   "metadata": {
    "scrolled": false
   },
   "outputs": [],
   "source": [
    "import numpy as np\n",
    "import math\n",
    "\n",
    "#find covariance matrix and take the absolute value\n",
    "cov_matrix = abs(processed_reviews.corr())\n",
    "\n",
    "#take out all values along or above diagonal \n",
    "for i in range(int(math.sqrt(cov_matrix.size))):\n",
    "    cov_matrix.iloc[i, i:] = 0\n",
    "    \n",
    "#sort remaining values\n",
    "unstacked = cov_matrix.unstack(level=0)\n",
    "sorted = unstacked.sort_values(kind = 'quicksort', ascending= False)"
   ]
  },
  {
   "cell_type": "markdown",
   "metadata": {},
   "source": [
    "Question 8: Which variables are included in the **top 10** **most** correlated (based on absolute value)? "
   ]
  },
  {
   "cell_type": "code",
   "execution_count": 356,
   "metadata": {},
   "outputs": [
    {
     "name": "stdout",
     "output_type": "stream",
     "text": [
      "parks                  theatres          0.628782\n",
      "restaurants            pubs_bars         0.567785\n",
      "zoo                    pubs_bars         0.554357\n",
      "                       restaurants       0.545238\n",
      "swimming_pools         gyms              0.521543\n",
      "hotels_other_lodgings  juice_bars        0.515170\n",
      "churches               gardens           0.499185\n",
      "theatres               museums           0.484519\n",
      "view_points            monuments         0.470440\n",
      "pubs_bars              local_services    0.466849\n",
      "dtype: float64\n"
     ]
    }
   ],
   "source": [
    "print(sorted[0:10])\n",
    "#note: \"zoo\" in the fourth line is missing simply due to the formatting of \n",
    "#the unstack function. \"zoo\" is repeated in the line above it, so the blank\n",
    "#implies the tag of \"zoo\" is attached to both"
   ]
  },
  {
   "cell_type": "markdown",
   "metadata": {},
   "source": [
    "**Task:** Group each variable into 10 equal-width bins and calculate the **mean malls** rating for each bin"
   ]
  },
  {
   "cell_type": "code",
   "execution_count": 159,
   "metadata": {},
   "outputs": [
    {
     "data": {
      "text/html": [
       "<div>\n",
       "<style scoped>\n",
       "    .dataframe tbody tr th:only-of-type {\n",
       "        vertical-align: middle;\n",
       "    }\n",
       "\n",
       "    .dataframe tbody tr th {\n",
       "        vertical-align: top;\n",
       "    }\n",
       "\n",
       "    .dataframe thead th {\n",
       "        text-align: right;\n",
       "    }\n",
       "</style>\n",
       "<table border=\"1\" class=\"dataframe\">\n",
       "  <thead>\n",
       "    <tr style=\"text-align: right;\">\n",
       "      <th></th>\n",
       "      <th>churches</th>\n",
       "      <th>resorts</th>\n",
       "      <th>beaches</th>\n",
       "      <th>parks</th>\n",
       "      <th>theatres</th>\n",
       "      <th>museums</th>\n",
       "      <th>malls</th>\n",
       "      <th>zoo</th>\n",
       "      <th>restaurants</th>\n",
       "      <th>pubs_bars</th>\n",
       "      <th>...</th>\n",
       "      <th>art_galleries</th>\n",
       "      <th>dance_clubs</th>\n",
       "      <th>swimming_pools</th>\n",
       "      <th>gyms</th>\n",
       "      <th>bakeries</th>\n",
       "      <th>beauty_spas</th>\n",
       "      <th>cafes</th>\n",
       "      <th>view_points</th>\n",
       "      <th>monuments</th>\n",
       "      <th>gardens</th>\n",
       "    </tr>\n",
       "  </thead>\n",
       "  <tbody>\n",
       "    <tr>\n",
       "      <th>0</th>\n",
       "      <td>2.598077</td>\n",
       "      <td>2.269200</td>\n",
       "      <td>3.280000</td>\n",
       "      <td>2.874359</td>\n",
       "      <td>3.349252</td>\n",
       "      <td>2.601246</td>\n",
       "      <td>1.340558</td>\n",
       "      <td>2.756607</td>\n",
       "      <td>2.325376</td>\n",
       "      <td>3.155915</td>\n",
       "      <td>...</td>\n",
       "      <td>1.918000</td>\n",
       "      <td>3.537979</td>\n",
       "      <td>3.767985</td>\n",
       "      <td>3.661285</td>\n",
       "      <td>3.629669</td>\n",
       "      <td>3.411139</td>\n",
       "      <td>3.254379</td>\n",
       "      <td>2.872500</td>\n",
       "      <td>2.695347</td>\n",
       "      <td>2.692692</td>\n",
       "    </tr>\n",
       "    <tr>\n",
       "      <th>1</th>\n",
       "      <td>3.914725</td>\n",
       "      <td>4.027637</td>\n",
       "      <td>3.858857</td>\n",
       "      <td>3.487610</td>\n",
       "      <td>3.049089</td>\n",
       "      <td>2.826261</td>\n",
       "      <td>1.712772</td>\n",
       "      <td>2.553054</td>\n",
       "      <td>2.142506</td>\n",
       "      <td>2.640525</td>\n",
       "      <td>...</td>\n",
       "      <td>3.349185</td>\n",
       "      <td>3.651278</td>\n",
       "      <td>3.535192</td>\n",
       "      <td>3.478043</td>\n",
       "      <td>3.471572</td>\n",
       "      <td>3.525351</td>\n",
       "      <td>3.525116</td>\n",
       "      <td>3.828774</td>\n",
       "      <td>3.766375</td>\n",
       "      <td>3.969731</td>\n",
       "    </tr>\n",
       "    <tr>\n",
       "      <th>2</th>\n",
       "      <td>3.699982</td>\n",
       "      <td>3.729012</td>\n",
       "      <td>3.761190</td>\n",
       "      <td>3.121394</td>\n",
       "      <td>2.613950</td>\n",
       "      <td>2.767188</td>\n",
       "      <td>2.064079</td>\n",
       "      <td>3.235824</td>\n",
       "      <td>2.749792</td>\n",
       "      <td>2.865628</td>\n",
       "      <td>...</td>\n",
       "      <td>2.833913</td>\n",
       "      <td>2.481172</td>\n",
       "      <td>2.486317</td>\n",
       "      <td>2.593765</td>\n",
       "      <td>3.310789</td>\n",
       "      <td>3.521134</td>\n",
       "      <td>3.642295</td>\n",
       "      <td>3.925520</td>\n",
       "      <td>3.682373</td>\n",
       "      <td>3.656942</td>\n",
       "    </tr>\n",
       "    <tr>\n",
       "      <th>3</th>\n",
       "      <td>3.107195</td>\n",
       "      <td>3.256582</td>\n",
       "      <td>3.509275</td>\n",
       "      <td>3.479620</td>\n",
       "      <td>3.590670</td>\n",
       "      <td>2.788949</td>\n",
       "      <td>2.501687</td>\n",
       "      <td>3.759788</td>\n",
       "      <td>3.673906</td>\n",
       "      <td>3.278309</td>\n",
       "      <td>...</td>\n",
       "      <td>3.816801</td>\n",
       "      <td>3.433249</td>\n",
       "      <td>3.719365</td>\n",
       "      <td>1.715000</td>\n",
       "      <td>3.397576</td>\n",
       "      <td>3.313611</td>\n",
       "      <td>3.442936</td>\n",
       "      <td>3.044331</td>\n",
       "      <td>2.873820</td>\n",
       "      <td>2.868889</td>\n",
       "    </tr>\n",
       "    <tr>\n",
       "      <th>4</th>\n",
       "      <td>2.441447</td>\n",
       "      <td>3.012050</td>\n",
       "      <td>3.021541</td>\n",
       "      <td>3.573629</td>\n",
       "      <td>3.719982</td>\n",
       "      <td>3.708124</td>\n",
       "      <td>2.867361</td>\n",
       "      <td>3.419259</td>\n",
       "      <td>3.360843</td>\n",
       "      <td>3.771962</td>\n",
       "      <td>...</td>\n",
       "      <td>3.463488</td>\n",
       "      <td>2.314667</td>\n",
       "      <td>2.615000</td>\n",
       "      <td>1.574098</td>\n",
       "      <td>1.694369</td>\n",
       "      <td>1.676415</td>\n",
       "      <td>1.577931</td>\n",
       "      <td>2.066737</td>\n",
       "      <td>2.064286</td>\n",
       "      <td>1.942008</td>\n",
       "    </tr>\n",
       "    <tr>\n",
       "      <th>5</th>\n",
       "      <td>1.672541</td>\n",
       "      <td>2.343925</td>\n",
       "      <td>3.066178</td>\n",
       "      <td>4.446307</td>\n",
       "      <td>4.383946</td>\n",
       "      <td>3.955402</td>\n",
       "      <td>3.231337</td>\n",
       "      <td>3.422559</td>\n",
       "      <td>3.984607</td>\n",
       "      <td>3.450294</td>\n",
       "      <td>...</td>\n",
       "      <td>2.687857</td>\n",
       "      <td>1.614583</td>\n",
       "      <td>1.891667</td>\n",
       "      <td>2.032368</td>\n",
       "      <td>2.432656</td>\n",
       "      <td>1.976364</td>\n",
       "      <td>1.270000</td>\n",
       "      <td>2.110233</td>\n",
       "      <td>1.383704</td>\n",
       "      <td>1.386160</td>\n",
       "    </tr>\n",
       "    <tr>\n",
       "      <th>6</th>\n",
       "      <td>3.305000</td>\n",
       "      <td>1.984643</td>\n",
       "      <td>2.799310</td>\n",
       "      <td>3.506296</td>\n",
       "      <td>2.424902</td>\n",
       "      <td>3.620465</td>\n",
       "      <td>3.774000</td>\n",
       "      <td>4.333158</td>\n",
       "      <td>3.535922</td>\n",
       "      <td>3.185787</td>\n",
       "      <td>...</td>\n",
       "      <td>4.190494</td>\n",
       "      <td>2.276667</td>\n",
       "      <td>3.962222</td>\n",
       "      <td>5.000000</td>\n",
       "      <td>3.646364</td>\n",
       "      <td>4.121944</td>\n",
       "      <td>4.124000</td>\n",
       "      <td>2.519167</td>\n",
       "      <td>1.522895</td>\n",
       "      <td>1.795937</td>\n",
       "    </tr>\n",
       "    <tr>\n",
       "      <th>7</th>\n",
       "      <td>1.973214</td>\n",
       "      <td>2.341607</td>\n",
       "      <td>2.766897</td>\n",
       "      <td>3.188257</td>\n",
       "      <td>3.610225</td>\n",
       "      <td>4.247529</td>\n",
       "      <td>4.101765</td>\n",
       "      <td>4.720773</td>\n",
       "      <td>3.139568</td>\n",
       "      <td>3.000459</td>\n",
       "      <td>...</td>\n",
       "      <td>4.368000</td>\n",
       "      <td>2.558286</td>\n",
       "      <td>2.923333</td>\n",
       "      <td>1.215000</td>\n",
       "      <td>2.893333</td>\n",
       "      <td>1.313684</td>\n",
       "      <td>1.191176</td>\n",
       "      <td>1.271039</td>\n",
       "      <td>1.455758</td>\n",
       "      <td>1.971724</td>\n",
       "    </tr>\n",
       "    <tr>\n",
       "      <th>8</th>\n",
       "      <td>2.672414</td>\n",
       "      <td>2.150000</td>\n",
       "      <td>2.441525</td>\n",
       "      <td>2.459907</td>\n",
       "      <td>4.506536</td>\n",
       "      <td>3.562734</td>\n",
       "      <td>4.383824</td>\n",
       "      <td>4.031781</td>\n",
       "      <td>3.153241</td>\n",
       "      <td>3.288947</td>\n",
       "      <td>...</td>\n",
       "      <td>4.437391</td>\n",
       "      <td>3.282500</td>\n",
       "      <td>1.880000</td>\n",
       "      <td>2.255000</td>\n",
       "      <td>1.542105</td>\n",
       "      <td>2.061000</td>\n",
       "      <td>1.833571</td>\n",
       "      <td>2.622353</td>\n",
       "      <td>2.497333</td>\n",
       "      <td>2.600857</td>\n",
       "    </tr>\n",
       "    <tr>\n",
       "      <th>9</th>\n",
       "      <td>3.285658</td>\n",
       "      <td>3.694151</td>\n",
       "      <td>3.406963</td>\n",
       "      <td>3.120872</td>\n",
       "      <td>3.233678</td>\n",
       "      <td>4.085667</td>\n",
       "      <td>4.990811</td>\n",
       "      <td>4.306942</td>\n",
       "      <td>4.088241</td>\n",
       "      <td>3.910365</td>\n",
       "      <td>...</td>\n",
       "      <td>3.481717</td>\n",
       "      <td>3.126667</td>\n",
       "      <td>2.524265</td>\n",
       "      <td>2.490057</td>\n",
       "      <td>2.261713</td>\n",
       "      <td>2.437439</td>\n",
       "      <td>2.066566</td>\n",
       "      <td>2.442299</td>\n",
       "      <td>3.057512</td>\n",
       "      <td>2.984435</td>\n",
       "    </tr>\n",
       "  </tbody>\n",
       "</table>\n",
       "<p>10 rows × 24 columns</p>\n",
       "</div>"
      ],
      "text/plain": [
       "   churches   resorts   beaches     parks  theatres   museums     malls  \\\n",
       "0  2.598077  2.269200  3.280000  2.874359  3.349252  2.601246  1.340558   \n",
       "1  3.914725  4.027637  3.858857  3.487610  3.049089  2.826261  1.712772   \n",
       "2  3.699982  3.729012  3.761190  3.121394  2.613950  2.767188  2.064079   \n",
       "3  3.107195  3.256582  3.509275  3.479620  3.590670  2.788949  2.501687   \n",
       "4  2.441447  3.012050  3.021541  3.573629  3.719982  3.708124  2.867361   \n",
       "5  1.672541  2.343925  3.066178  4.446307  4.383946  3.955402  3.231337   \n",
       "6  3.305000  1.984643  2.799310  3.506296  2.424902  3.620465  3.774000   \n",
       "7  1.973214  2.341607  2.766897  3.188257  3.610225  4.247529  4.101765   \n",
       "8  2.672414  2.150000  2.441525  2.459907  4.506536  3.562734  4.383824   \n",
       "9  3.285658  3.694151  3.406963  3.120872  3.233678  4.085667  4.990811   \n",
       "\n",
       "        zoo  restaurants  pubs_bars  ...  art_galleries  dance_clubs  \\\n",
       "0  2.756607     2.325376   3.155915  ...       1.918000     3.537979   \n",
       "1  2.553054     2.142506   2.640525  ...       3.349185     3.651278   \n",
       "2  3.235824     2.749792   2.865628  ...       2.833913     2.481172   \n",
       "3  3.759788     3.673906   3.278309  ...       3.816801     3.433249   \n",
       "4  3.419259     3.360843   3.771962  ...       3.463488     2.314667   \n",
       "5  3.422559     3.984607   3.450294  ...       2.687857     1.614583   \n",
       "6  4.333158     3.535922   3.185787  ...       4.190494     2.276667   \n",
       "7  4.720773     3.139568   3.000459  ...       4.368000     2.558286   \n",
       "8  4.031781     3.153241   3.288947  ...       4.437391     3.282500   \n",
       "9  4.306942     4.088241   3.910365  ...       3.481717     3.126667   \n",
       "\n",
       "   swimming_pools      gyms  bakeries  beauty_spas     cafes  view_points  \\\n",
       "0        3.767985  3.661285  3.629669     3.411139  3.254379     2.872500   \n",
       "1        3.535192  3.478043  3.471572     3.525351  3.525116     3.828774   \n",
       "2        2.486317  2.593765  3.310789     3.521134  3.642295     3.925520   \n",
       "3        3.719365  1.715000  3.397576     3.313611  3.442936     3.044331   \n",
       "4        2.615000  1.574098  1.694369     1.676415  1.577931     2.066737   \n",
       "5        1.891667  2.032368  2.432656     1.976364  1.270000     2.110233   \n",
       "6        3.962222  5.000000  3.646364     4.121944  4.124000     2.519167   \n",
       "7        2.923333  1.215000  2.893333     1.313684  1.191176     1.271039   \n",
       "8        1.880000  2.255000  1.542105     2.061000  1.833571     2.622353   \n",
       "9        2.524265  2.490057  2.261713     2.437439  2.066566     2.442299   \n",
       "\n",
       "   monuments   gardens  \n",
       "0   2.695347  2.692692  \n",
       "1   3.766375  3.969731  \n",
       "2   3.682373  3.656942  \n",
       "3   2.873820  2.868889  \n",
       "4   2.064286  1.942008  \n",
       "5   1.383704  1.386160  \n",
       "6   1.522895  1.795937  \n",
       "7   1.455758  1.971724  \n",
       "8   2.497333  2.600857  \n",
       "9   3.057512  2.984435  \n",
       "\n",
       "[10 rows x 24 columns]"
      ]
     },
     "execution_count": 159,
     "metadata": {},
     "output_type": "execute_result"
    }
   ],
   "source": [
    "mean_malls = pd.DataFrame(np.nan, index = [0,1,2,3,4,5,6,7,8,9], \n",
    "                          columns = processed_reviews.columns[1:25])\n",
    "\n",
    "for i in range(1,25):\n",
    "    results = scipy.stats.binned_statistic(processed_reviews.iloc[:,i], processed_reviews.malls, statistic='mean', bins = 10)\n",
    "    mean_malls.iloc[:,i-1] = results.statistic\n",
    "    \n",
    "mean_malls"
   ]
  },
  {
   "cell_type": "markdown",
   "metadata": {},
   "source": [
    "Question 9: Which chart below matches mean **mall** rating by **juice_bar** bins?"
   ]
  },
  {
   "cell_type": "code",
   "execution_count": 195,
   "metadata": {},
   "outputs": [
    {
     "data": {
      "text/plain": [
       "<function matplotlib.pyplot.show(*args, **kw)>"
      ]
     },
     "execution_count": 195,
     "metadata": {},
     "output_type": "execute_result"
    },
    {
     "data": {
      "image/png": "[encoded data removed]",
      "text/plain": [
       "<Figure size 432x288 with 1 Axes>"
      ]
     },
     "metadata": {
      "needs_background": "light"
     },
     "output_type": "display_data"
    }
   ],
   "source": [
    "import matplotlib.pyplot as plt\n",
    "\n",
    "plt.plot(range(0,10), mean_malls.juice_bars)\n",
    "plt.show\n",
    "\n",
    "#none of the charts match the below chart"
   ]
  },
  {
   "cell_type": "markdown",
   "metadata": {},
   "source": [
    "**Task:** Split dataset into features that include all variables except **juice_bars** and user_id"
   ]
  },
  {
   "cell_type": "code",
   "execution_count": 301,
   "metadata": {},
   "outputs": [],
   "source": [
    "features = processed_reviews.drop('juice_bars', axis=1)\n",
    "features = features.drop('user_id', axis=1)"
   ]
  },
  {
   "cell_type": "markdown",
   "metadata": {},
   "source": [
    "**Task:** Set your seed to 42 and split the data into **80%** training and **20%** test sets "
   ]
  },
  {
   "cell_type": "code",
   "execution_count": 303,
   "metadata": {},
   "outputs": [],
   "source": [
    "from sklearn.model_selection import train_test_split\n",
    "x_train, x_test, y_train, y_test = train_test_split(features, processed_reviews.juice_bars, test_size = .2, random_state = 42)"
   ]
  },
  {
   "cell_type": "markdown",
   "metadata": {},
   "source": [
    "**Task:** Set seed to 42 and fit a Random Forest with **10 trees/estimators** to the training set"
   ]
  },
  {
   "cell_type": "code",
   "execution_count": 304,
   "metadata": {},
   "outputs": [],
   "source": [
    "from sklearn.ensemble import RandomForestRegressor\n",
    "\n",
    "#Note: although not explicitly specified I'm assuming that here we are \n",
    "#fitting a training set to predict the juice_bar rating\n",
    "\n",
    "regressor = RandomForestRegressor(n_estimators = 10, random_state = 42)\n",
    "fit = regressor.fit(x_train, y_train)\n"
   ]
  },
  {
   "cell_type": "markdown",
   "metadata": {},
   "source": [
    "Question 10: What R-Squared value did the model achieve on the test set?"
   ]
  },
  {
   "cell_type": "code",
   "execution_count": 305,
   "metadata": {},
   "outputs": [
    {
     "data": {
      "text/plain": [
       "0.7502168906163271"
      ]
     },
     "execution_count": 305,
     "metadata": {},
     "output_type": "execute_result"
    }
   ],
   "source": [
    "predictions = regressor.predict(x_test)\n",
    "from sklearn.metrics import r2_score\n",
    "r2_score(y_test, predictions)"
   ]
  },
  {
   "cell_type": "markdown",
   "metadata": {},
   "source": [
    "**Task:** Predict **juice_bars** ratings for the full dataset (training and test combined) and append predictions to the table"
   ]
  },
  {
   "cell_type": "code",
   "execution_count": 306,
   "metadata": {},
   "outputs": [],
   "source": [
    "total_predictions = regressor.predict(features)\n",
    "features['juice_bar_predictions'] = total_predictions"
   ]
  },
  {
   "cell_type": "markdown",
   "metadata": {},
   "source": [
    "**Task:** Compute the squared residual for each user id, append to table and sort descending by squared residual "
   ]
  },
  {
   "cell_type": "code",
   "execution_count": 316,
   "metadata": {},
   "outputs": [],
   "source": [
    "residuals2 = (processed_reviews.juice_bars - total_predictions)**2\n",
    "features['user_id_residuals'] = residuals2\n",
    "features = features.sort_values(by=['user_id_residuals'], ascending=False)"
   ]
  },
  {
   "cell_type": "markdown",
   "metadata": {},
   "source": [
    "Question 11: Which IDs are included in the **top 10** losses as measured by squared residual"
   ]
  },
  {
   "cell_type": "code",
   "execution_count": 318,
   "metadata": {},
   "outputs": [
    {
     "name": "stdout",
     "output_type": "stream",
     "text": [
      "        user_id\n",
      "8     User 1578\n",
      "2305   User 634\n",
      "2939  User 4288\n",
      "2170  User 5383\n",
      "3471  User 2122\n",
      "4065  User 5356\n",
      "61    User 5418\n",
      "3790   User 629\n",
      "1507  User 2733\n",
      "598   User 2074\n"
     ]
    }
   ],
   "source": [
    "features['user_id'] = processed_reviews.user_id\n",
    "print(features.iloc[0:10,25:26])\n",
    "features = features.drop('user_id', axis=1)"
   ]
  },
  {
   "cell_type": "markdown",
   "metadata": {},
   "source": [
    "**Task:** Extract the first tree/estimator from the Random Forest Model"
   ]
  },
  {
   "cell_type": "code",
   "execution_count": 324,
   "metadata": {},
   "outputs": [],
   "source": [
    "first_tree = regressor.estimators_[0]"
   ]
  },
  {
   "cell_type": "markdown",
   "metadata": {},
   "source": [
    "**Task:** Plot the decision tree with **max depth of 3**"
   ]
  },
  {
   "cell_type": "code",
   "execution_count": null,
   "metadata": {},
   "outputs": [],
   "source": [
    "!conda install graphviz --yes"
   ]
  },
  {
   "cell_type": "code",
   "execution_count": 354,
   "metadata": {},
   "outputs": [
    {
     "data": {
      "image/svg+xml": [
       "<?xml version=\"1.0\" encoding=\"UTF-8\" standalone=\"no\"?>\n",
       "<!DOCTYPE svg PUBLIC \"-//W3C//DTD SVG 1.1//EN\"\n",
       " \"http://www.w3.org/Graphics/SVG/1.1/DTD/svg11.dtd\">\n",
       "<!-- Generated by graphviz version 2.40.1 (20161225.0304)\n",
       " -->\n",
       "<!-- Title: Tree Pages: 1 -->\n",
       "<svg width=\"1286pt\" height=\"460pt\"\n",
       " viewBox=\"0.00 0.00 1285.50 460.00\" xmlns=\"http://www.w3.org/2000/svg\" xmlns:xlink=\"http://www.w3.org/1999/xlink\">\n",
       "<g id=\"graph0\" class=\"graph\" transform=\"scale(1 1) rotate(0) translate(4 456)\">\n",
       "<title>Tree</title>\n",
       "<polygon fill=\"#ffffff\" stroke=\"transparent\" points=\"-4,4 -4,-456 1281.5,-456 1281.5,4 -4,4\"/>\n",
       "<!-- 0 -->\n",
       "<g id=\"node1\" class=\"node\">\n",
       "<title>0</title>\n",
       "<path fill=\"#f6d4bb\" stroke=\"#000000\" d=\"M688.5,-452C688.5,-452 499.5,-452 499.5,-452 493.5,-452 487.5,-446 487.5,-440 487.5,-440 487.5,-396 487.5,-396 487.5,-390 493.5,-384 499.5,-384 499.5,-384 688.5,-384 688.5,-384 694.5,-384 700.5,-390 700.5,-396 700.5,-396 700.5,-440 700.5,-440 700.5,-446 694.5,-452 688.5,-452\"/>\n",
       "<text text-anchor=\"middle\" x=\"594\" y=\"-436.8\" font-family=\"Helvetica,sans-Serif\" font-size=\"14.00\" fill=\"#000000\">hotels_other_lodgings &lt;= 1.765</text>\n",
       "<text text-anchor=\"middle\" x=\"594\" y=\"-421.8\" font-family=\"Helvetica,sans-Serif\" font-size=\"14.00\" fill=\"#000000\">mse = 2.527</text>\n",
       "<text text-anchor=\"middle\" x=\"594\" y=\"-406.8\" font-family=\"Helvetica,sans-Serif\" font-size=\"14.00\" fill=\"#000000\">samples = 2347</text>\n",
       "<text text-anchor=\"middle\" x=\"594\" y=\"-391.8\" font-family=\"Helvetica,sans-Serif\" font-size=\"14.00\" fill=\"#000000\">value = 2.221</text>\n",
       "</g>\n",
       "<!-- 1 -->\n",
       "<g id=\"node2\" class=\"node\">\n",
       "<title>1</title>\n",
       "<path fill=\"#fae7d9\" stroke=\"#000000\" d=\"M534,-348C534,-348 432,-348 432,-348 426,-348 420,-342 420,-336 420,-336 420,-292 420,-292 420,-286 426,-280 432,-280 432,-280 534,-280 534,-280 540,-280 546,-286 546,-292 546,-292 546,-336 546,-336 546,-342 540,-348 534,-348\"/>\n",
       "<text text-anchor=\"middle\" x=\"483\" y=\"-332.8\" font-family=\"Helvetica,sans-Serif\" font-size=\"14.00\" fill=\"#000000\">theatres &lt;= 1.405</text>\n",
       "<text text-anchor=\"middle\" x=\"483\" y=\"-317.8\" font-family=\"Helvetica,sans-Serif\" font-size=\"14.00\" fill=\"#000000\">mse = 1.158</text>\n",
       "<text text-anchor=\"middle\" x=\"483\" y=\"-302.8\" font-family=\"Helvetica,sans-Serif\" font-size=\"14.00\" fill=\"#000000\">samples = 1507</text>\n",
       "<text text-anchor=\"middle\" x=\"483\" y=\"-287.8\" font-family=\"Helvetica,sans-Serif\" font-size=\"14.00\" fill=\"#000000\">value = 1.572</text>\n",
       "</g>\n",
       "<!-- 0&#45;&gt;1 -->\n",
       "<g id=\"edge1\" class=\"edge\">\n",
       "<title>0&#45;&gt;1</title>\n",
       "<path fill=\"none\" stroke=\"#000000\" d=\"M557.6544,-383.9465C547.7841,-374.6986 536.9925,-364.5876 526.759,-354.9994\"/>\n",
       "<polygon fill=\"#000000\" stroke=\"#000000\" points=\"529.1177,-352.4131 519.4272,-348.13 524.3316,-357.5214 529.1177,-352.4131\"/>\n",
       "<text text-anchor=\"middle\" x=\"520.2407\" y=\"-369.4168\" font-family=\"Helvetica,sans-Serif\" font-size=\"14.00\" fill=\"#000000\">True</text>\n",
       "</g>\n",
       "<!-- 1836 -->\n",
       "<g id=\"node17\" class=\"node\">\n",
       "<title>1836</title>\n",
       "<path fill=\"#efb387\" stroke=\"#000000\" d=\"M803,-348C803,-348 691,-348 691,-348 685,-348 679,-342 679,-336 679,-336 679,-292 679,-292 679,-286 685,-280 691,-280 691,-280 803,-280 803,-280 809,-280 815,-286 815,-292 815,-292 815,-336 815,-336 815,-342 809,-348 803,-348\"/>\n",
       "<text text-anchor=\"middle\" x=\"747\" y=\"-332.8\" font-family=\"Helvetica,sans-Serif\" font-size=\"14.00\" fill=\"#000000\">museums &lt;= 1.795</text>\n",
       "<text text-anchor=\"middle\" x=\"747\" y=\"-317.8\" font-family=\"Helvetica,sans-Serif\" font-size=\"14.00\" fill=\"#000000\">mse = 2.921</text>\n",
       "<text text-anchor=\"middle\" x=\"747\" y=\"-302.8\" font-family=\"Helvetica,sans-Serif\" font-size=\"14.00\" fill=\"#000000\">samples = 840</text>\n",
       "<text text-anchor=\"middle\" x=\"747\" y=\"-287.8\" font-family=\"Helvetica,sans-Serif\" font-size=\"14.00\" fill=\"#000000\">value = 3.324</text>\n",
       "</g>\n",
       "<!-- 0&#45;&gt;1836 -->\n",
       "<g id=\"edge16\" class=\"edge\">\n",
       "<title>0&#45;&gt;1836</title>\n",
       "<path fill=\"none\" stroke=\"#000000\" d=\"M644.0979,-383.9465C658.2313,-374.3395 673.7352,-363.8009 688.3233,-353.8848\"/>\n",
       "<polygon fill=\"#000000\" stroke=\"#000000\" points=\"690.4868,-356.6463 696.7895,-348.13 686.5517,-350.8571 690.4868,-356.6463\"/>\n",
       "<text text-anchor=\"middle\" x=\"692.1073\" y=\"-368.9876\" font-family=\"Helvetica,sans-Serif\" font-size=\"14.00\" fill=\"#000000\">False</text>\n",
       "</g>\n",
       "<!-- 2 -->\n",
       "<g id=\"node3\" class=\"node\">\n",
       "<title>2</title>\n",
       "<path fill=\"#efb387\" stroke=\"#000000\" d=\"M262.5,-244C262.5,-244 153.5,-244 153.5,-244 147.5,-244 141.5,-238 141.5,-232 141.5,-232 141.5,-188 141.5,-188 141.5,-182 147.5,-176 153.5,-176 153.5,-176 262.5,-176 262.5,-176 268.5,-176 274.5,-182 274.5,-188 274.5,-188 274.5,-232 274.5,-232 274.5,-238 268.5,-244 262.5,-244\"/>\n",
       "<text text-anchor=\"middle\" x=\"208\" y=\"-228.8\" font-family=\"Helvetica,sans-Serif\" font-size=\"14.00\" fill=\"#000000\">pubs_bars &lt;= 2.96</text>\n",
       "<text text-anchor=\"middle\" x=\"208\" y=\"-213.8\" font-family=\"Helvetica,sans-Serif\" font-size=\"14.00\" fill=\"#000000\">mse = 3.134</text>\n",
       "<text text-anchor=\"middle\" x=\"208\" y=\"-198.8\" font-family=\"Helvetica,sans-Serif\" font-size=\"14.00\" fill=\"#000000\">samples = 102</text>\n",
       "<text text-anchor=\"middle\" x=\"208\" y=\"-183.8\" font-family=\"Helvetica,sans-Serif\" font-size=\"14.00\" fill=\"#000000\">value = 3.326</text>\n",
       "</g>\n",
       "<!-- 1&#45;&gt;2 -->\n",
       "<g id=\"edge2\" class=\"edge\">\n",
       "<title>1&#45;&gt;2</title>\n",
       "<path fill=\"none\" stroke=\"#000000\" d=\"M419.9094,-290.1403C379.5154,-274.864 326.8609,-254.951 284.1447,-238.7965\"/>\n",
       "<polygon fill=\"#000000\" stroke=\"#000000\" points=\"285.2244,-235.463 274.6329,-235.1993 282.7483,-242.0104 285.2244,-235.463\"/>\n",
       "</g>\n",
       "<!-- 109 -->\n",
       "<g id=\"node10\" class=\"node\">\n",
       "<title>109</title>\n",
       "<path fill=\"#fbebdf\" stroke=\"#000000\" d=\"M577.5,-244C577.5,-244 388.5,-244 388.5,-244 382.5,-244 376.5,-238 376.5,-232 376.5,-232 376.5,-188 376.5,-188 376.5,-182 382.5,-176 388.5,-176 388.5,-176 577.5,-176 577.5,-176 583.5,-176 589.5,-182 589.5,-188 589.5,-188 589.5,-232 589.5,-232 589.5,-238 583.5,-244 577.5,-244\"/>\n",
       "<text text-anchor=\"middle\" x=\"483\" y=\"-228.8\" font-family=\"Helvetica,sans-Serif\" font-size=\"14.00\" fill=\"#000000\">hotels_other_lodgings &lt;= 1.125</text>\n",
       "<text text-anchor=\"middle\" x=\"483\" y=\"-213.8\" font-family=\"Helvetica,sans-Serif\" font-size=\"14.00\" fill=\"#000000\">mse = 0.746</text>\n",
       "<text text-anchor=\"middle\" x=\"483\" y=\"-198.8\" font-family=\"Helvetica,sans-Serif\" font-size=\"14.00\" fill=\"#000000\">samples = 1405</text>\n",
       "<text text-anchor=\"middle\" x=\"483\" y=\"-183.8\" font-family=\"Helvetica,sans-Serif\" font-size=\"14.00\" fill=\"#000000\">value = 1.435</text>\n",
       "</g>\n",
       "<!-- 1&#45;&gt;109 -->\n",
       "<g id=\"edge9\" class=\"edge\">\n",
       "<title>1&#45;&gt;109</title>\n",
       "<path fill=\"none\" stroke=\"#000000\" d=\"M483,-279.9465C483,-271.776 483,-262.9318 483,-254.3697\"/>\n",
       "<polygon fill=\"#000000\" stroke=\"#000000\" points=\"486.5001,-254.13 483,-244.13 479.5001,-254.13 486.5001,-254.13\"/>\n",
       "</g>\n",
       "<!-- 3 -->\n",
       "<g id=\"node4\" class=\"node\">\n",
       "<title>3</title>\n",
       "<path fill=\"#eba06a\" stroke=\"#000000\" d=\"M101.5,-140C101.5,-140 24.5,-140 24.5,-140 18.5,-140 12.5,-134 12.5,-128 12.5,-128 12.5,-84 12.5,-84 12.5,-78 18.5,-72 24.5,-72 24.5,-72 101.5,-72 101.5,-72 107.5,-72 113.5,-78 113.5,-84 113.5,-84 113.5,-128 113.5,-128 113.5,-134 107.5,-140 101.5,-140\"/>\n",
       "<text text-anchor=\"middle\" x=\"63\" y=\"-124.8\" font-family=\"Helvetica,sans-Serif\" font-size=\"14.00\" fill=\"#000000\">cafes &lt;= 4.06</text>\n",
       "<text text-anchor=\"middle\" x=\"63\" y=\"-109.8\" font-family=\"Helvetica,sans-Serif\" font-size=\"14.00\" fill=\"#000000\">mse = 3.005</text>\n",
       "<text text-anchor=\"middle\" x=\"63\" y=\"-94.8\" font-family=\"Helvetica,sans-Serif\" font-size=\"14.00\" fill=\"#000000\">samples = 62</text>\n",
       "<text text-anchor=\"middle\" x=\"63\" y=\"-79.8\" font-family=\"Helvetica,sans-Serif\" font-size=\"14.00\" fill=\"#000000\">value = 3.961</text>\n",
       "</g>\n",
       "<!-- 2&#45;&gt;3 -->\n",
       "<g id=\"edge3\" class=\"edge\">\n",
       "<title>2&#45;&gt;3</title>\n",
       "<path fill=\"none\" stroke=\"#000000\" d=\"M160.5216,-175.9465C147.2523,-166.4293 132.7085,-155.9978 118.9965,-146.163\"/>\n",
       "<polygon fill=\"#000000\" stroke=\"#000000\" points=\"120.751,-143.1142 110.5851,-140.13 116.6712,-148.8024 120.751,-143.1142\"/>\n",
       "</g>\n",
       "<!-- 54 -->\n",
       "<g id=\"node7\" class=\"node\">\n",
       "<title>54</title>\n",
       "<path fill=\"#f4cbad\" stroke=\"#000000\" d=\"M272,-140C272,-140 144,-140 144,-140 138,-140 132,-134 132,-128 132,-128 132,-84 132,-84 132,-78 138,-72 144,-72 144,-72 272,-72 272,-72 278,-72 284,-78 284,-84 284,-84 284,-128 284,-128 284,-134 278,-140 272,-140\"/>\n",
       "<text text-anchor=\"middle\" x=\"208\" y=\"-124.8\" font-family=\"Helvetica,sans-Serif\" font-size=\"14.00\" fill=\"#000000\">art_galleries &lt;= 0.945</text>\n",
       "<text text-anchor=\"middle\" x=\"208\" y=\"-109.8\" font-family=\"Helvetica,sans-Serif\" font-size=\"14.00\" fill=\"#000000\">mse = 2.133</text>\n",
       "<text text-anchor=\"middle\" x=\"208\" y=\"-94.8\" font-family=\"Helvetica,sans-Serif\" font-size=\"14.00\" fill=\"#000000\">samples = 40</text>\n",
       "<text text-anchor=\"middle\" x=\"208\" y=\"-79.8\" font-family=\"Helvetica,sans-Serif\" font-size=\"14.00\" fill=\"#000000\">value = 2.519</text>\n",
       "</g>\n",
       "<!-- 2&#45;&gt;54 -->\n",
       "<g id=\"edge6\" class=\"edge\">\n",
       "<title>2&#45;&gt;54</title>\n",
       "<path fill=\"none\" stroke=\"#000000\" d=\"M208,-175.9465C208,-167.776 208,-158.9318 208,-150.3697\"/>\n",
       "<polygon fill=\"#000000\" stroke=\"#000000\" points=\"211.5001,-150.13 208,-140.13 204.5001,-150.13 211.5001,-150.13\"/>\n",
       "</g>\n",
       "<!-- 4 -->\n",
       "<g id=\"node5\" class=\"node\">\n",
       "<title>4</title>\n",
       "<path fill=\"#c0c0c0\" stroke=\"#000000\" d=\"M42,-36C42,-36 12,-36 12,-36 6,-36 0,-30 0,-24 0,-24 0,-12 0,-12 0,-6 6,0 12,0 12,0 42,0 42,0 48,0 54,-6 54,-12 54,-12 54,-24 54,-24 54,-30 48,-36 42,-36\"/>\n",
       "<text text-anchor=\"middle\" x=\"27\" y=\"-14.3\" font-family=\"Helvetica,sans-Serif\" font-size=\"14.00\" fill=\"#000000\">(...)</text>\n",
       "</g>\n",
       "<!-- 3&#45;&gt;4 -->\n",
       "<g id=\"edge4\" class=\"edge\">\n",
       "<title>3&#45;&gt;4</title>\n",
       "<path fill=\"none\" stroke=\"#000000\" d=\"M49.0815,-71.9769C45.4977,-63.2167 41.6862,-53.8995 38.2564,-45.5157\"/>\n",
       "<polygon fill=\"#000000\" stroke=\"#000000\" points=\"41.468,-44.1222 34.4422,-36.192 34.9891,-46.7727 41.468,-44.1222\"/>\n",
       "</g>\n",
       "<!-- 45 -->\n",
       "<g id=\"node6\" class=\"node\">\n",
       "<title>45</title>\n",
       "<path fill=\"#c0c0c0\" stroke=\"#000000\" d=\"M114,-36C114,-36 84,-36 84,-36 78,-36 72,-30 72,-24 72,-24 72,-12 72,-12 72,-6 78,0 84,0 84,0 114,0 114,0 120,0 126,-6 126,-12 126,-12 126,-24 126,-24 126,-30 120,-36 114,-36\"/>\n",
       "<text text-anchor=\"middle\" x=\"99\" y=\"-14.3\" font-family=\"Helvetica,sans-Serif\" font-size=\"14.00\" fill=\"#000000\">(...)</text>\n",
       "</g>\n",
       "<!-- 3&#45;&gt;45 -->\n",
       "<g id=\"edge5\" class=\"edge\">\n",
       "<title>3&#45;&gt;45</title>\n",
       "<path fill=\"none\" stroke=\"#000000\" d=\"M76.9185,-71.9769C80.5023,-63.2167 84.3138,-53.8995 87.7436,-45.5157\"/>\n",
       "<polygon fill=\"#000000\" stroke=\"#000000\" points=\"91.0109,-46.7727 91.5578,-36.192 84.532,-44.1222 91.0109,-46.7727\"/>\n",
       "</g>\n",
       "<!-- 55 -->\n",
       "<g id=\"node8\" class=\"node\">\n",
       "<title>55</title>\n",
       "<path fill=\"#c0c0c0\" stroke=\"#000000\" d=\"M205,-36C205,-36 175,-36 175,-36 169,-36 163,-30 163,-24 163,-24 163,-12 163,-12 163,-6 169,0 175,0 175,0 205,0 205,0 211,0 217,-6 217,-12 217,-12 217,-24 217,-24 217,-30 211,-36 205,-36\"/>\n",
       "<text text-anchor=\"middle\" x=\"190\" y=\"-14.3\" font-family=\"Helvetica,sans-Serif\" font-size=\"14.00\" fill=\"#000000\">(...)</text>\n",
       "</g>\n",
       "<!-- 54&#45;&gt;55 -->\n",
       "<g id=\"edge7\" class=\"edge\">\n",
       "<title>54&#45;&gt;55</title>\n",
       "<path fill=\"none\" stroke=\"#000000\" d=\"M201.0407,-71.9769C199.2878,-63.4071 197.4259,-54.3043 195.7403,-46.0638\"/>\n",
       "<polygon fill=\"#000000\" stroke=\"#000000\" points=\"199.1541,-45.2877 193.7211,-36.192 192.2961,-46.6905 199.1541,-45.2877\"/>\n",
       "</g>\n",
       "<!-- 66 -->\n",
       "<g id=\"node9\" class=\"node\">\n",
       "<title>66</title>\n",
       "<path fill=\"#c0c0c0\" stroke=\"#000000\" d=\"M277,-36C277,-36 247,-36 247,-36 241,-36 235,-30 235,-24 235,-24 235,-12 235,-12 235,-6 241,0 247,0 247,0 277,0 277,0 283,0 289,-6 289,-12 289,-12 289,-24 289,-24 289,-30 283,-36 277,-36\"/>\n",
       "<text text-anchor=\"middle\" x=\"262\" y=\"-14.3\" font-family=\"Helvetica,sans-Serif\" font-size=\"14.00\" fill=\"#000000\">(...)</text>\n",
       "</g>\n",
       "<!-- 54&#45;&gt;66 -->\n",
       "<g id=\"edge8\" class=\"edge\">\n",
       "<title>54&#45;&gt;66</title>\n",
       "<path fill=\"none\" stroke=\"#000000\" d=\"M228.8778,-71.9769C234.3703,-63.0262 240.2195,-53.4941 245.4501,-44.9703\"/>\n",
       "<polygon fill=\"#000000\" stroke=\"#000000\" points=\"248.5897,-46.5458 250.8368,-36.192 242.6234,-42.8846 248.5897,-46.5458\"/>\n",
       "</g>\n",
       "<!-- 110 -->\n",
       "<g id=\"node11\" class=\"node\">\n",
       "<title>110</title>\n",
       "<path fill=\"#fdf8f4\" stroke=\"#000000\" d=\"M398,-140C398,-140 314,-140 314,-140 308,-140 302,-134 302,-128 302,-128 302,-84 302,-84 302,-78 308,-72 314,-72 314,-72 398,-72 398,-72 404,-72 410,-78 410,-84 410,-84 410,-128 410,-128 410,-134 404,-140 398,-140\"/>\n",
       "<text text-anchor=\"middle\" x=\"356\" y=\"-124.8\" font-family=\"Helvetica,sans-Serif\" font-size=\"14.00\" fill=\"#000000\">zoo &lt;= 3.935</text>\n",
       "<text text-anchor=\"middle\" x=\"356\" y=\"-109.8\" font-family=\"Helvetica,sans-Serif\" font-size=\"14.00\" fill=\"#000000\">mse = 0.392</text>\n",
       "<text text-anchor=\"middle\" x=\"356\" y=\"-94.8\" font-family=\"Helvetica,sans-Serif\" font-size=\"14.00\" fill=\"#000000\">samples = 498</text>\n",
       "<text text-anchor=\"middle\" x=\"356\" y=\"-79.8\" font-family=\"Helvetica,sans-Serif\" font-size=\"14.00\" fill=\"#000000\">value = 1.006</text>\n",
       "</g>\n",
       "<!-- 109&#45;&gt;110 -->\n",
       "<g id=\"edge10\" class=\"edge\">\n",
       "<title>109&#45;&gt;110</title>\n",
       "<path fill=\"none\" stroke=\"#000000\" d=\"M441.4155,-175.9465C430.0127,-166.6088 417.5353,-156.3911 405.7257,-146.7203\"/>\n",
       "<polygon fill=\"#000000\" stroke=\"#000000\" points=\"407.6324,-143.7578 397.678,-140.13 403.1974,-149.1736 407.6324,-143.7578\"/>\n",
       "</g>\n",
       "<!-- 659 -->\n",
       "<g id=\"node14\" class=\"node\">\n",
       "<title>659</title>\n",
       "<path fill=\"#f9e4d5\" stroke=\"#000000\" d=\"M610,-140C610,-140 440,-140 440,-140 434,-140 428,-134 428,-128 428,-128 428,-84 428,-84 428,-78 434,-72 440,-72 440,-72 610,-72 610,-72 616,-72 622,-78 622,-84 622,-84 622,-128 622,-128 622,-134 616,-140 610,-140\"/>\n",
       "<text text-anchor=\"middle\" x=\"525\" y=\"-124.8\" font-family=\"Helvetica,sans-Serif\" font-size=\"14.00\" fill=\"#000000\">burger_pizza_shops &lt;= 2.39</text>\n",
       "<text text-anchor=\"middle\" x=\"525\" y=\"-109.8\" font-family=\"Helvetica,sans-Serif\" font-size=\"14.00\" fill=\"#000000\">mse = 0.784</text>\n",
       "<text text-anchor=\"middle\" x=\"525\" y=\"-94.8\" font-family=\"Helvetica,sans-Serif\" font-size=\"14.00\" fill=\"#000000\">samples = 907</text>\n",
       "<text text-anchor=\"middle\" x=\"525\" y=\"-79.8\" font-family=\"Helvetica,sans-Serif\" font-size=\"14.00\" fill=\"#000000\">value = 1.669</text>\n",
       "</g>\n",
       "<!-- 109&#45;&gt;659 -->\n",
       "<g id=\"edge13\" class=\"edge\">\n",
       "<title>109&#45;&gt;659</title>\n",
       "<path fill=\"none\" stroke=\"#000000\" d=\"M496.7524,-175.9465C500.1608,-167.5067 503.8595,-158.3479 507.4231,-149.5239\"/>\n",
       "<polygon fill=\"#000000\" stroke=\"#000000\" points=\"510.7174,-150.7131 511.2167,-140.13 504.2267,-148.0918 510.7174,-150.7131\"/>\n",
       "</g>\n",
       "<!-- 111 -->\n",
       "<g id=\"node12\" class=\"node\">\n",
       "<title>111</title>\n",
       "<path fill=\"#c0c0c0\" stroke=\"#000000\" d=\"M360,-36C360,-36 330,-36 330,-36 324,-36 318,-30 318,-24 318,-24 318,-12 318,-12 318,-6 324,0 330,0 330,0 360,0 360,0 366,0 372,-6 372,-12 372,-12 372,-24 372,-24 372,-30 366,-36 360,-36\"/>\n",
       "<text text-anchor=\"middle\" x=\"345\" y=\"-14.3\" font-family=\"Helvetica,sans-Serif\" font-size=\"14.00\" fill=\"#000000\">(...)</text>\n",
       "</g>\n",
       "<!-- 110&#45;&gt;111 -->\n",
       "<g id=\"edge11\" class=\"edge\">\n",
       "<title>110&#45;&gt;111</title>\n",
       "<path fill=\"none\" stroke=\"#000000\" d=\"M351.7471,-71.9769C350.6878,-63.5023 349.5633,-54.5065 348.5423,-46.3388\"/>\n",
       "<polygon fill=\"#000000\" stroke=\"#000000\" points=\"351.9874,-45.6806 347.274,-36.192 345.0415,-46.5489 351.9874,-45.6806\"/>\n",
       "</g>\n",
       "<!-- 586 -->\n",
       "<g id=\"node13\" class=\"node\">\n",
       "<title>586</title>\n",
       "<path fill=\"#c0c0c0\" stroke=\"#000000\" d=\"M432,-36C432,-36 402,-36 402,-36 396,-36 390,-30 390,-24 390,-24 390,-12 390,-12 390,-6 396,0 402,0 402,0 432,0 432,0 438,0 444,-6 444,-12 444,-12 444,-24 444,-24 444,-30 438,-36 432,-36\"/>\n",
       "<text text-anchor=\"middle\" x=\"417\" y=\"-14.3\" font-family=\"Helvetica,sans-Serif\" font-size=\"14.00\" fill=\"#000000\">(...)</text>\n",
       "</g>\n",
       "<!-- 110&#45;&gt;586 -->\n",
       "<g id=\"edge12\" class=\"edge\">\n",
       "<title>110&#45;&gt;586</title>\n",
       "<path fill=\"none\" stroke=\"#000000\" d=\"M379.5842,-71.9769C385.9206,-62.8358 392.6775,-53.0883 398.6809,-44.4276\"/>\n",
       "<polygon fill=\"#000000\" stroke=\"#000000\" points=\"401.5692,-46.4045 404.3897,-36.192 395.8162,-42.4166 401.5692,-46.4045\"/>\n",
       "</g>\n",
       "<!-- 660 -->\n",
       "<g id=\"node15\" class=\"node\">\n",
       "<title>660</title>\n",
       "<path fill=\"#c0c0c0\" stroke=\"#000000\" d=\"M523,-36C523,-36 493,-36 493,-36 487,-36 481,-30 481,-24 481,-24 481,-12 481,-12 481,-6 487,0 493,0 493,0 523,0 523,0 529,0 535,-6 535,-12 535,-12 535,-24 535,-24 535,-30 529,-36 523,-36\"/>\n",
       "<text text-anchor=\"middle\" x=\"508\" y=\"-14.3\" font-family=\"Helvetica,sans-Serif\" font-size=\"14.00\" fill=\"#000000\">(...)</text>\n",
       "</g>\n",
       "<!-- 659&#45;&gt;660 -->\n",
       "<g id=\"edge14\" class=\"edge\">\n",
       "<title>659&#45;&gt;660</title>\n",
       "<path fill=\"none\" stroke=\"#000000\" d=\"M518.4274,-71.9769C516.7718,-63.4071 515.0133,-54.3043 513.4214,-46.0638\"/>\n",
       "<polygon fill=\"#000000\" stroke=\"#000000\" points=\"516.8476,-45.3465 511.5144,-36.192 509.9747,-46.6743 516.8476,-45.3465\"/>\n",
       "</g>\n",
       "<!-- 1711 -->\n",
       "<g id=\"node16\" class=\"node\">\n",
       "<title>1711</title>\n",
       "<path fill=\"#c0c0c0\" stroke=\"#000000\" d=\"M595,-36C595,-36 565,-36 565,-36 559,-36 553,-30 553,-24 553,-24 553,-12 553,-12 553,-6 559,0 565,0 565,0 595,0 595,0 601,0 607,-6 607,-12 607,-12 607,-24 607,-24 607,-30 601,-36 595,-36\"/>\n",
       "<text text-anchor=\"middle\" x=\"580\" y=\"-14.3\" font-family=\"Helvetica,sans-Serif\" font-size=\"14.00\" fill=\"#000000\">(...)</text>\n",
       "</g>\n",
       "<!-- 659&#45;&gt;1711 -->\n",
       "<g id=\"edge15\" class=\"edge\">\n",
       "<title>659&#45;&gt;1711</title>\n",
       "<path fill=\"none\" stroke=\"#000000\" d=\"M546.2644,-71.9769C551.9181,-62.931 557.943,-53.2913 563.3134,-44.6986\"/>\n",
       "<polygon fill=\"#000000\" stroke=\"#000000\" points=\"566.298,-46.527 568.63,-36.192 560.362,-42.8169 566.298,-46.527\"/>\n",
       "</g>\n",
       "<!-- 1837 -->\n",
       "<g id=\"node18\" class=\"node\">\n",
       "<title>1837</title>\n",
       "<path fill=\"#e78c4a\" stroke=\"#000000\" d=\"M832,-244C832,-244 662,-244 662,-244 656,-244 650,-238 650,-232 650,-232 650,-188 650,-188 650,-182 656,-176 662,-176 662,-176 832,-176 832,-176 838,-176 844,-182 844,-188 844,-188 844,-232 844,-232 844,-238 838,-244 832,-244\"/>\n",
       "<text text-anchor=\"middle\" x=\"747\" y=\"-228.8\" font-family=\"Helvetica,sans-Serif\" font-size=\"14.00\" fill=\"#000000\">burger_pizza_shops &lt;= 2.42</text>\n",
       "<text text-anchor=\"middle\" x=\"747\" y=\"-213.8\" font-family=\"Helvetica,sans-Serif\" font-size=\"14.00\" fill=\"#000000\">mse = 1.236</text>\n",
       "<text text-anchor=\"middle\" x=\"747\" y=\"-198.8\" font-family=\"Helvetica,sans-Serif\" font-size=\"14.00\" fill=\"#000000\">samples = 218</text>\n",
       "<text text-anchor=\"middle\" x=\"747\" y=\"-183.8\" font-family=\"Helvetica,sans-Serif\" font-size=\"14.00\" fill=\"#000000\">value = 4.643</text>\n",
       "</g>\n",
       "<!-- 1836&#45;&gt;1837 -->\n",
       "<g id=\"edge17\" class=\"edge\">\n",
       "<title>1836&#45;&gt;1837</title>\n",
       "<path fill=\"none\" stroke=\"#000000\" d=\"M747,-279.9465C747,-271.776 747,-262.9318 747,-254.3697\"/>\n",
       "<polygon fill=\"#000000\" stroke=\"#000000\" points=\"750.5001,-254.13 747,-244.13 743.5001,-254.13 750.5001,-254.13\"/>\n",
       "</g>\n",
       "<!-- 1892 -->\n",
       "<g id=\"node25\" class=\"node\">\n",
       "<title>1892</title>\n",
       "<path fill=\"#f2c2a0\" stroke=\"#000000\" d=\"M1056,-244C1056,-244 928,-244 928,-244 922,-244 916,-238 916,-232 916,-232 916,-188 916,-188 916,-182 922,-176 928,-176 928,-176 1056,-176 1056,-176 1062,-176 1068,-182 1068,-188 1068,-188 1068,-232 1068,-232 1068,-238 1062,-244 1056,-244\"/>\n",
       "<text text-anchor=\"middle\" x=\"992\" y=\"-228.8\" font-family=\"Helvetica,sans-Serif\" font-size=\"14.00\" fill=\"#000000\">art_galleries &lt;= 3.625</text>\n",
       "<text text-anchor=\"middle\" x=\"992\" y=\"-213.8\" font-family=\"Helvetica,sans-Serif\" font-size=\"14.00\" fill=\"#000000\">mse = 2.627</text>\n",
       "<text text-anchor=\"middle\" x=\"992\" y=\"-198.8\" font-family=\"Helvetica,sans-Serif\" font-size=\"14.00\" fill=\"#000000\">samples = 622</text>\n",
       "<text text-anchor=\"middle\" x=\"992\" y=\"-183.8\" font-family=\"Helvetica,sans-Serif\" font-size=\"14.00\" fill=\"#000000\">value = 2.803</text>\n",
       "</g>\n",
       "<!-- 1836&#45;&gt;1892 -->\n",
       "<g id=\"edge24\" class=\"edge\">\n",
       "<title>1836&#45;&gt;1892</title>\n",
       "<path fill=\"none\" stroke=\"#000000\" d=\"M815.2462,-285.0302C843.4815,-273.0446 876.536,-259.0133 906.3722,-246.3481\"/>\n",
       "<polygon fill=\"#000000\" stroke=\"#000000\" points=\"908.0986,-249.4176 915.936,-242.2884 905.3634,-242.9741 908.0986,-249.4176\"/>\n",
       "</g>\n",
       "<!-- 1838 -->\n",
       "<g id=\"node19\" class=\"node\">\n",
       "<title>1838</title>\n",
       "<path fill=\"#f2c19e\" stroke=\"#000000\" d=\"M760,-140C760,-140 652,-140 652,-140 646,-140 640,-134 640,-128 640,-128 640,-84 640,-84 640,-78 646,-72 652,-72 652,-72 760,-72 760,-72 766,-72 772,-78 772,-84 772,-84 772,-128 772,-128 772,-134 766,-140 760,-140\"/>\n",
       "<text text-anchor=\"middle\" x=\"706\" y=\"-124.8\" font-family=\"Helvetica,sans-Serif\" font-size=\"14.00\" fill=\"#000000\">churches &lt;= 2.295</text>\n",
       "<text text-anchor=\"middle\" x=\"706\" y=\"-109.8\" font-family=\"Helvetica,sans-Serif\" font-size=\"14.00\" fill=\"#000000\">mse = 3.356</text>\n",
       "<text text-anchor=\"middle\" x=\"706\" y=\"-94.8\" font-family=\"Helvetica,sans-Serif\" font-size=\"14.00\" fill=\"#000000\">samples = 28</text>\n",
       "<text text-anchor=\"middle\" x=\"706\" y=\"-79.8\" font-family=\"Helvetica,sans-Serif\" font-size=\"14.00\" fill=\"#000000\">value = 2.837</text>\n",
       "</g>\n",
       "<!-- 1837&#45;&gt;1838 -->\n",
       "<g id=\"edge18\" class=\"edge\">\n",
       "<title>1837&#45;&gt;1838</title>\n",
       "<path fill=\"none\" stroke=\"#000000\" d=\"M733.5751,-175.9465C730.2478,-167.5067 726.6372,-158.3479 723.1584,-149.5239\"/>\n",
       "<polygon fill=\"#000000\" stroke=\"#000000\" points=\"726.3789,-148.1495 719.4551,-140.13 719.8666,-150.7168 726.3789,-148.1495\"/>\n",
       "</g>\n",
       "<!-- 1877 -->\n",
       "<g id=\"node22\" class=\"node\">\n",
       "<title>1877</title>\n",
       "<path fill=\"#e6843e\" stroke=\"#000000\" d=\"M907.5,-140C907.5,-140 802.5,-140 802.5,-140 796.5,-140 790.5,-134 790.5,-128 790.5,-128 790.5,-84 790.5,-84 790.5,-78 796.5,-72 802.5,-72 802.5,-72 907.5,-72 907.5,-72 913.5,-72 919.5,-78 919.5,-84 919.5,-84 919.5,-128 919.5,-128 919.5,-134 913.5,-140 907.5,-140\"/>\n",
       "<text text-anchor=\"middle\" x=\"855\" y=\"-124.8\" font-family=\"Helvetica,sans-Serif\" font-size=\"14.00\" fill=\"#000000\">bakeries &lt;= 0.255</text>\n",
       "<text text-anchor=\"middle\" x=\"855\" y=\"-109.8\" font-family=\"Helvetica,sans-Serif\" font-size=\"14.00\" fill=\"#000000\">mse = 0.432</text>\n",
       "<text text-anchor=\"middle\" x=\"855\" y=\"-94.8\" font-family=\"Helvetica,sans-Serif\" font-size=\"14.00\" fill=\"#000000\">samples = 190</text>\n",
       "<text text-anchor=\"middle\" x=\"855\" y=\"-79.8\" font-family=\"Helvetica,sans-Serif\" font-size=\"14.00\" fill=\"#000000\">value = 4.892</text>\n",
       "</g>\n",
       "<!-- 1837&#45;&gt;1877 -->\n",
       "<g id=\"edge21\" class=\"edge\">\n",
       "<title>1837&#45;&gt;1877</title>\n",
       "<path fill=\"none\" stroke=\"#000000\" d=\"M782.3632,-175.9465C791.8736,-166.7884 802.263,-156.7838 812.1335,-147.2788\"/>\n",
       "<polygon fill=\"#000000\" stroke=\"#000000\" points=\"814.7818,-149.5876 819.5573,-140.13 809.9263,-144.5453 814.7818,-149.5876\"/>\n",
       "</g>\n",
       "<!-- 1839 -->\n",
       "<g id=\"node20\" class=\"node\">\n",
       "<title>1839</title>\n",
       "<path fill=\"#c0c0c0\" stroke=\"#000000\" d=\"M684,-36C684,-36 654,-36 654,-36 648,-36 642,-30 642,-24 642,-24 642,-12 642,-12 642,-6 648,0 654,0 654,0 684,0 684,0 690,0 696,-6 696,-12 696,-12 696,-24 696,-24 696,-30 690,-36 684,-36\"/>\n",
       "<text text-anchor=\"middle\" x=\"669\" y=\"-14.3\" font-family=\"Helvetica,sans-Serif\" font-size=\"14.00\" fill=\"#000000\">(...)</text>\n",
       "</g>\n",
       "<!-- 1838&#45;&gt;1839 -->\n",
       "<g id=\"edge19\" class=\"edge\">\n",
       "<title>1838&#45;&gt;1839</title>\n",
       "<path fill=\"none\" stroke=\"#000000\" d=\"M691.6948,-71.9769C688.0116,-63.2167 684.0941,-53.8995 680.5691,-45.5157\"/>\n",
       "<polygon fill=\"#000000\" stroke=\"#000000\" points=\"683.7513,-44.0537 676.6489,-36.192 677.2984,-46.7669 683.7513,-44.0537\"/>\n",
       "</g>\n",
       "<!-- 1876 -->\n",
       "<g id=\"node21\" class=\"node\">\n",
       "<title>1876</title>\n",
       "<path fill=\"#c0c0c0\" stroke=\"#000000\" d=\"M756,-36C756,-36 726,-36 726,-36 720,-36 714,-30 714,-24 714,-24 714,-12 714,-12 714,-6 720,0 726,0 726,0 756,0 756,0 762,0 768,-6 768,-12 768,-12 768,-24 768,-24 768,-30 762,-36 756,-36\"/>\n",
       "<text text-anchor=\"middle\" x=\"741\" y=\"-14.3\" font-family=\"Helvetica,sans-Serif\" font-size=\"14.00\" fill=\"#000000\">(...)</text>\n",
       "</g>\n",
       "<!-- 1838&#45;&gt;1876 -->\n",
       "<g id=\"edge20\" class=\"edge\">\n",
       "<title>1838&#45;&gt;1876</title>\n",
       "<path fill=\"none\" stroke=\"#000000\" d=\"M719.5319,-71.9769C723.0161,-63.2167 726.7218,-53.8995 730.0562,-45.5157\"/>\n",
       "<polygon fill=\"#000000\" stroke=\"#000000\" points=\"733.321,-46.7775 733.7646,-36.192 726.8166,-44.1905 733.321,-46.7775\"/>\n",
       "</g>\n",
       "<!-- 1878 -->\n",
       "<g id=\"node23\" class=\"node\">\n",
       "<title>1878</title>\n",
       "<path fill=\"#c0c0c0\" stroke=\"#000000\" d=\"M836,-36C836,-36 806,-36 806,-36 800,-36 794,-30 794,-24 794,-24 794,-12 794,-12 794,-6 800,0 806,0 806,0 836,0 836,0 842,0 848,-6 848,-12 848,-12 848,-24 848,-24 848,-30 842,-36 836,-36\"/>\n",
       "<text text-anchor=\"middle\" x=\"821\" y=\"-14.3\" font-family=\"Helvetica,sans-Serif\" font-size=\"14.00\" fill=\"#000000\">(...)</text>\n",
       "</g>\n",
       "<!-- 1877&#45;&gt;1878 -->\n",
       "<g id=\"edge22\" class=\"edge\">\n",
       "<title>1877&#45;&gt;1878</title>\n",
       "<path fill=\"none\" stroke=\"#000000\" d=\"M841.8547,-71.9769C838.5069,-63.3119 834.9485,-54.102 831.7368,-45.7894\"/>\n",
       "<polygon fill=\"#000000\" stroke=\"#000000\" points=\"834.8976,-44.2585 828.0287,-36.192 828.368,-46.7814 834.8976,-44.2585\"/>\n",
       "</g>\n",
       "<!-- 1885 -->\n",
       "<g id=\"node24\" class=\"node\">\n",
       "<title>1885</title>\n",
       "<path fill=\"#c0c0c0\" stroke=\"#000000\" d=\"M908,-36C908,-36 878,-36 878,-36 872,-36 866,-30 866,-24 866,-24 866,-12 866,-12 866,-6 872,0 878,0 878,0 908,0 908,0 914,0 920,-6 920,-12 920,-12 920,-24 920,-24 920,-30 914,-36 908,-36\"/>\n",
       "<text text-anchor=\"middle\" x=\"893\" y=\"-14.3\" font-family=\"Helvetica,sans-Serif\" font-size=\"14.00\" fill=\"#000000\">(...)</text>\n",
       "</g>\n",
       "<!-- 1877&#45;&gt;1885 -->\n",
       "<g id=\"edge23\" class=\"edge\">\n",
       "<title>1877&#45;&gt;1885</title>\n",
       "<path fill=\"none\" stroke=\"#000000\" d=\"M869.6918,-71.9769C873.4746,-63.2167 877.4979,-53.8995 881.1182,-45.5157\"/>\n",
       "<polygon fill=\"#000000\" stroke=\"#000000\" points=\"884.3932,-46.7601 885.1444,-36.192 877.9667,-43.985 884.3932,-46.7601\"/>\n",
       "</g>\n",
       "<!-- 1893 -->\n",
       "<g id=\"node26\" class=\"node\">\n",
       "<title>1893</title>\n",
       "<path fill=\"#f6d3bb\" stroke=\"#000000\" d=\"M1034,-140C1034,-140 950,-140 950,-140 944,-140 938,-134 938,-128 938,-128 938,-84 938,-84 938,-78 944,-72 950,-72 950,-72 1034,-72 1034,-72 1040,-72 1046,-78 1046,-84 1046,-84 1046,-128 1046,-128 1046,-134 1040,-140 1034,-140\"/>\n",
       "<text text-anchor=\"middle\" x=\"992\" y=\"-124.8\" font-family=\"Helvetica,sans-Serif\" font-size=\"14.00\" fill=\"#000000\">zoo &lt;= 3.265</text>\n",
       "<text text-anchor=\"middle\" x=\"992\" y=\"-109.8\" font-family=\"Helvetica,sans-Serif\" font-size=\"14.00\" fill=\"#000000\">mse = 2.278</text>\n",
       "<text text-anchor=\"middle\" x=\"992\" y=\"-94.8\" font-family=\"Helvetica,sans-Serif\" font-size=\"14.00\" fill=\"#000000\">samples = 397</text>\n",
       "<text text-anchor=\"middle\" x=\"992\" y=\"-79.8\" font-family=\"Helvetica,sans-Serif\" font-size=\"14.00\" fill=\"#000000\">value = 2.225</text>\n",
       "</g>\n",
       "<!-- 1892&#45;&gt;1893 -->\n",
       "<g id=\"edge25\" class=\"edge\">\n",
       "<title>1892&#45;&gt;1893</title>\n",
       "<path fill=\"none\" stroke=\"#000000\" d=\"M992,-175.9465C992,-167.776 992,-158.9318 992,-150.3697\"/>\n",
       "<polygon fill=\"#000000\" stroke=\"#000000\" points=\"995.5001,-150.13 992,-140.13 988.5001,-150.13 995.5001,-150.13\"/>\n",
       "</g>\n",
       "<!-- 2416 -->\n",
       "<g id=\"node29\" class=\"node\">\n",
       "<title>2416</title>\n",
       "<path fill=\"#eca470\" stroke=\"#000000\" d=\"M1265.5,-140C1265.5,-140 1076.5,-140 1076.5,-140 1070.5,-140 1064.5,-134 1064.5,-128 1064.5,-128 1064.5,-84 1064.5,-84 1064.5,-78 1070.5,-72 1076.5,-72 1076.5,-72 1265.5,-72 1265.5,-72 1271.5,-72 1277.5,-78 1277.5,-84 1277.5,-84 1277.5,-128 1277.5,-128 1277.5,-134 1271.5,-140 1265.5,-140\"/>\n",
       "<text text-anchor=\"middle\" x=\"1171\" y=\"-124.8\" font-family=\"Helvetica,sans-Serif\" font-size=\"14.00\" fill=\"#000000\">hotels_other_lodgings &lt;= 2.185</text>\n",
       "<text text-anchor=\"middle\" x=\"1171\" y=\"-109.8\" font-family=\"Helvetica,sans-Serif\" font-size=\"14.00\" fill=\"#000000\">mse = 1.603</text>\n",
       "<text text-anchor=\"middle\" x=\"1171\" y=\"-94.8\" font-family=\"Helvetica,sans-Serif\" font-size=\"14.00\" fill=\"#000000\">samples = 225</text>\n",
       "<text text-anchor=\"middle\" x=\"1171\" y=\"-79.8\" font-family=\"Helvetica,sans-Serif\" font-size=\"14.00\" fill=\"#000000\">value = 3.829</text>\n",
       "</g>\n",
       "<!-- 1892&#45;&gt;2416 -->\n",
       "<g id=\"edge28\" class=\"edge\">\n",
       "<title>1892&#45;&gt;2416</title>\n",
       "<path fill=\"none\" stroke=\"#000000\" d=\"M1050.6113,-175.9465C1067.4555,-166.1599 1085.9636,-155.4066 1103.308,-145.3294\"/>\n",
       "<polygon fill=\"#000000\" stroke=\"#000000\" points=\"1105.3688,-148.18 1112.257,-140.13 1101.8522,-142.1274 1105.3688,-148.18\"/>\n",
       "</g>\n",
       "<!-- 1894 -->\n",
       "<g id=\"node27\" class=\"node\">\n",
       "<title>1894</title>\n",
       "<path fill=\"#c0c0c0\" stroke=\"#000000\" d=\"M984,-36C984,-36 954,-36 954,-36 948,-36 942,-30 942,-24 942,-24 942,-12 942,-12 942,-6 948,0 954,0 954,0 984,0 984,0 990,0 996,-6 996,-12 996,-12 996,-24 996,-24 996,-30 990,-36 984,-36\"/>\n",
       "<text text-anchor=\"middle\" x=\"969\" y=\"-14.3\" font-family=\"Helvetica,sans-Serif\" font-size=\"14.00\" fill=\"#000000\">(...)</text>\n",
       "</g>\n",
       "<!-- 1893&#45;&gt;1894 -->\n",
       "<g id=\"edge26\" class=\"edge\">\n",
       "<title>1893&#45;&gt;1894</title>\n",
       "<path fill=\"none\" stroke=\"#000000\" d=\"M983.1076,-71.9769C980.8678,-63.4071 978.4886,-54.3043 976.3349,-46.0638\"/>\n",
       "<polygon fill=\"#000000\" stroke=\"#000000\" points=\"979.6697,-44.9819 973.7547,-36.192 972.8972,-46.752 979.6697,-44.9819\"/>\n",
       "</g>\n",
       "<!-- 2373 -->\n",
       "<g id=\"node28\" class=\"node\">\n",
       "<title>2373</title>\n",
       "<path fill=\"#c0c0c0\" stroke=\"#000000\" d=\"M1056,-36C1056,-36 1026,-36 1026,-36 1020,-36 1014,-30 1014,-24 1014,-24 1014,-12 1014,-12 1014,-6 1020,0 1026,0 1026,0 1056,0 1056,0 1062,0 1068,-6 1068,-12 1068,-12 1068,-24 1068,-24 1068,-30 1062,-36 1056,-36\"/>\n",
       "<text text-anchor=\"middle\" x=\"1041\" y=\"-14.3\" font-family=\"Helvetica,sans-Serif\" font-size=\"14.00\" fill=\"#000000\">(...)</text>\n",
       "</g>\n",
       "<!-- 1893&#45;&gt;2373 -->\n",
       "<g id=\"edge27\" class=\"edge\">\n",
       "<title>1893&#45;&gt;2373</title>\n",
       "<path fill=\"none\" stroke=\"#000000\" d=\"M1010.9447,-71.9769C1015.9286,-63.0262 1021.2362,-53.4941 1025.9825,-44.9703\"/>\n",
       "<polygon fill=\"#000000\" stroke=\"#000000\" points=\"1029.0634,-46.6316 1030.8704,-36.192 1022.9476,-43.2261 1029.0634,-46.6316\"/>\n",
       "</g>\n",
       "<!-- 2417 -->\n",
       "<g id=\"node30\" class=\"node\">\n",
       "<title>2417</title>\n",
       "<path fill=\"#c0c0c0\" stroke=\"#000000\" d=\"M1130,-36C1130,-36 1100,-36 1100,-36 1094,-36 1088,-30 1088,-24 1088,-24 1088,-12 1088,-12 1088,-6 1094,0 1100,0 1100,0 1130,0 1130,0 1136,0 1142,-6 1142,-12 1142,-12 1142,-24 1142,-24 1142,-30 1136,-36 1130,-36\"/>\n",
       "<text text-anchor=\"middle\" x=\"1115\" y=\"-14.3\" font-family=\"Helvetica,sans-Serif\" font-size=\"14.00\" fill=\"#000000\">(...)</text>\n",
       "</g>\n",
       "<!-- 2416&#45;&gt;2417 -->\n",
       "<g id=\"edge29\" class=\"edge\">\n",
       "<title>2416&#45;&gt;2417</title>\n",
       "<path fill=\"none\" stroke=\"#000000\" d=\"M1149.3489,-71.9769C1143.5925,-62.931 1137.4581,-53.2913 1131.99,-44.6986\"/>\n",
       "<polygon fill=\"#000000\" stroke=\"#000000\" points=\"1134.8983,-42.7495 1126.5767,-36.192 1128.9927,-46.5077 1134.8983,-42.7495\"/>\n",
       "</g>\n",
       "<!-- 2538 -->\n",
       "<g id=\"node31\" class=\"node\">\n",
       "<title>2538</title>\n",
       "<path fill=\"#c0c0c0\" stroke=\"#000000\" d=\"M1202,-36C1202,-36 1172,-36 1172,-36 1166,-36 1160,-30 1160,-24 1160,-24 1160,-12 1160,-12 1160,-6 1166,0 1172,0 1172,0 1202,0 1202,0 1208,0 1214,-6 1214,-12 1214,-12 1214,-24 1214,-24 1214,-30 1208,-36 1202,-36\"/>\n",
       "<text text-anchor=\"middle\" x=\"1187\" y=\"-14.3\" font-family=\"Helvetica,sans-Serif\" font-size=\"14.00\" fill=\"#000000\">(...)</text>\n",
       "</g>\n",
       "<!-- 2416&#45;&gt;2538 -->\n",
       "<g id=\"edge30\" class=\"edge\">\n",
       "<title>2416&#45;&gt;2538</title>\n",
       "<path fill=\"none\" stroke=\"#000000\" d=\"M1177.186,-71.9769C1178.7442,-63.4071 1180.3992,-54.3043 1181.8975,-46.0638\"/>\n",
       "<polygon fill=\"#000000\" stroke=\"#000000\" points=\"1185.347,-46.6568 1183.6924,-36.192 1178.4599,-45.4045 1185.347,-46.6568\"/>\n",
       "</g>\n",
       "</g>\n",
       "</svg>\n"
      ],
      "text/plain": [
       "<graphviz.files.Source at 0x1a282bf748>"
      ]
     },
     "execution_count": 354,
     "metadata": {},
     "output_type": "execute_result"
    }
   ],
   "source": [
    "old_features = processed_reviews.drop('juice_bars', axis=1)\n",
    "old_features = old_features.drop('user_id', axis=1)\n",
    "\n",
    "from sklearn.tree import export_graphviz\n",
    "export_graphviz(first_tree, max_depth = 3, feature_names = old_features.columns, filled = True, rounded=True, out_file='tree.dot')\n",
    "\n",
    "Source.from_file('tree.dot')"
   ]
  },
  {
   "cell_type": "code",
   "execution_count": null,
   "metadata": {},
   "outputs": [],
   "source": [
    "Question 12: Which variable does the tree split on **first**?"
   ]
  },
  {
   "cell_type": "code",
   "execution_count": null,
   "metadata": {},
   "outputs": [],
   "source": [
    "#as seen above, the variable first splits on hotels_other_lodgings"
   ]
  },
  {
   "cell_type": "markdown",
   "metadata": {},
   "source": [
    "**Task:** Create a sparse matrix with Location (e.g. resorts, beauty_spas, swimming_pools, etc.) on the rows and UserID on the columns with ratings as the values (fill any missing ratings for users with 0)"
   ]
  },
  {
   "cell_type": "code",
   "execution_count": 458,
   "metadata": {},
   "outputs": [],
   "source": [
    "transposed = processed_reviews.transpose()\n",
    "transposed = transposed.drop('user_id')\n",
    "transposed.columns = processed_reviews.user_id\n",
    "\n",
    "sparse_matrix = transposed.astype(pd.SparseDtype(fill_value = 0))"
   ]
  },
  {
   "cell_type": "markdown",
   "metadata": {},
   "source": [
    "**Task:** Apply a brute-force K-Nearest Neighbors algorithm to the matrix with a cosine metric "
   ]
  },
  {
   "cell_type": "code",
   "execution_count": 459,
   "metadata": {},
   "outputs": [
    {
     "data": {
      "text/plain": [
       "NearestNeighbors(algorithm='brute', leaf_size=30, metric='cosine',\n",
       "                 metric_params=None, n_jobs=None, n_neighbors=5, p=2,\n",
       "                 radius=1.0)"
      ]
     },
     "execution_count": 459,
     "metadata": {},
     "output_type": "execute_result"
    }
   ],
   "source": [
    "from sklearn.neighbors import NearestNeighbors\n",
    "\n",
    "model_knn = NearestNeighbors(metric = 'cosine', algorithm = 'brute')\n",
    "model_knn.fit(sparse_matrix)"
   ]
  },
  {
   "cell_type": "markdown",
   "metadata": {},
   "source": [
    "Question 13: Which categories are included in the top 5 nearest neighbors to **swimming_pools**?"
   ]
  },
  {
   "cell_type": "code",
   "execution_count": 476,
   "metadata": {},
   "outputs": [
    {
     "name": "stdout",
     "output_type": "stream",
     "text": [
      "[['swimming_pools' 'gyms' 'dance_clubs' 'churches' 'gardens'\n",
      "  'burger_pizza_shops']]\n"
     ]
    }
   ],
   "source": [
    "distances, indices = model_knn.kneighbors(sparse_matrix.iloc[16,:].values.to_dense().reshape(1,-1), n_neighbors = 6)\n",
    "print(sparse_matrix.index.values[indices])\n",
    "#obviously swimming pools does not count as the nearest neighbor to itself, so I've printed\n",
    "#the first six values. The top 5 nearest neighbors are gyms, dance clubs, churches, gardens,\n",
    "#and burger/pizza shops. "
   ]
  }
 ],
 "metadata": {
  "kernelspec": {
   "display_name": "Python 3",
   "language": "python",
   "name": "python3"
  },
  "language_info": {
   "codemirror_mode": {
    "name": "ipython",
    "version": 3
   },
   "file_extension": ".py",
   "mimetype": "text/x-python",
   "name": "python",
   "nbconvert_exporter": "python",
   "pygments_lexer": "ipython3",
   "version": "3.7.3"
  }
 },
 "nbformat": 4,
 "nbformat_minor": 2
}
